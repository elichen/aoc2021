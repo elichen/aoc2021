{
  "nbformat": 4,
  "nbformat_minor": 0,
  "metadata": {
    "colab": {
      "provenance": [],
      "authorship_tag": "ABX9TyNhf7m1YMa3a3tdn7pFNiQp",
      "include_colab_link": true
    },
    "kernelspec": {
      "name": "python3",
      "display_name": "Python 3"
    },
    "language_info": {
      "name": "python"
    }
  },
  "cells": [
    {
      "cell_type": "markdown",
      "metadata": {
        "id": "view-in-github",
        "colab_type": "text"
      },
      "source": [
        "<a href=\"https://colab.research.google.com/github/elichen/aoc2021/blob/main/Day_10_Syntax_Scoring.ipynb\" target=\"_parent\"><img src=\"https://colab.research.google.com/assets/colab-badge.svg\" alt=\"Open In Colab\"/></a>"
      ]
    },
    {
      "cell_type": "code",
      "source": [
        "input_lines = open(\"input.txt\").read().splitlines()"
      ],
      "metadata": {
        "id": "fAtuSe9DpOdl"
      },
      "execution_count": 7,
      "outputs": []
    },
    {
      "cell_type": "code",
      "execution_count": 8,
      "metadata": {
        "colab": {
          "base_uri": "https://localhost:8080/"
        },
        "id": "lkHSNT4JoxVI",
        "outputId": "ce0c9baf-27fb-40f1-edd2-3f406b3a8426"
      },
      "outputs": [
        {
          "output_type": "execute_result",
          "data": {
            "text/plain": [
              "366027"
            ]
          },
          "metadata": {},
          "execution_count": 8
        }
      ],
      "source": [
        "def calculate_syntax_error_score(input_lines):\n",
        "    # Define the scores for each illegal character\n",
        "    illegal_char_scores = {\n",
        "        ')': 3,\n",
        "        ']': 57,\n",
        "        '}': 1197,\n",
        "        '>': 25137\n",
        "    }\n",
        "\n",
        "    # Define the matching pairs for chunks\n",
        "    matching_pairs = {\n",
        "        '(': ')',\n",
        "        '[': ']',\n",
        "        '{': '}',\n",
        "        '<': '>'\n",
        "    }\n",
        "\n",
        "    total_score = 0\n",
        "\n",
        "    # Iterate through each line in the input\n",
        "    for line in input_lines:\n",
        "        stack = []\n",
        "\n",
        "        for char in line:\n",
        "            if char in matching_pairs:\n",
        "                stack.append(char)\n",
        "            elif stack and char == matching_pairs[stack[-1]]:\n",
        "                stack.pop()\n",
        "            else:\n",
        "                # Found an illegal character\n",
        "                total_score += illegal_char_scores.get(char, 0)\n",
        "                break\n",
        "\n",
        "    return total_score\n",
        "\n",
        "# Calculate the syntax error score\n",
        "calculate_syntax_error_score(input_lines)"
      ]
    },
    {
      "cell_type": "code",
      "source": [
        "def calculate_middle_autocomplete_score(input_lines):\n",
        "    # Define the scores for each autocomplete character\n",
        "    autocomplete_scores = {\n",
        "        ')': 1,\n",
        "        ']': 2,\n",
        "        '}': 3,\n",
        "        '>': 4\n",
        "    }\n",
        "\n",
        "    # Define the matching pairs for chunks\n",
        "    matching_pairs = {\n",
        "        '(': ')',\n",
        "        '[': ']',\n",
        "        '{': '}',\n",
        "        '<': '>'\n",
        "    }\n",
        "\n",
        "    # Define reverse pairs for easier lookup\n",
        "    reverse_pairs = {v: k for k, v in matching_pairs.items()}\n",
        "\n",
        "    completion_scores = []\n",
        "\n",
        "    # Iterate through each line in the input\n",
        "    for line in input_lines:\n",
        "        stack = []\n",
        "        corrupted = False\n",
        "\n",
        "        for char in line:\n",
        "            if char in matching_pairs:\n",
        "                stack.append(char)\n",
        "            elif stack and char == matching_pairs[stack[-1]]:\n",
        "                stack.pop()\n",
        "            else:\n",
        "                # Found an illegal character, so this line is corrupted\n",
        "                corrupted = True\n",
        "                break\n",
        "\n",
        "        if not corrupted:\n",
        "            # Calculate completion string for incomplete line\n",
        "            completion_string = []\n",
        "            while stack:\n",
        "                completion_string.append(matching_pairs[stack.pop()])\n",
        "\n",
        "            # Calculate the score for the completion string\n",
        "            score = 0\n",
        "            for char in completion_string:\n",
        "                score = score * 5 + autocomplete_scores[char]\n",
        "\n",
        "            completion_scores.append(score)\n",
        "\n",
        "    # Sort the scores and find the middle score\n",
        "    completion_scores.sort()\n",
        "    middle_score = completion_scores[len(completion_scores) // 2]\n",
        "\n",
        "    return middle_score\n",
        "\n",
        "calculate_middle_autocomplete_score(input_lines)"
      ],
      "metadata": {
        "colab": {
          "base_uri": "https://localhost:8080/"
        },
        "id": "BrrdftpFptMt",
        "outputId": "8d6ff328-e4f8-4557-ec90-c3d52b4c1913"
      },
      "execution_count": 9,
      "outputs": [
        {
          "output_type": "execute_result",
          "data": {
            "text/plain": [
              "1118645287"
            ]
          },
          "metadata": {},
          "execution_count": 9
        }
      ]
    }
  ]
}