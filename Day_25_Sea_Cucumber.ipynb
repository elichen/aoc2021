{
  "nbformat": 4,
  "nbformat_minor": 0,
  "metadata": {
    "colab": {
      "provenance": [],
      "authorship_tag": "ABX9TyOZR3/k5LtzkWMd4Z1CRMHG",
      "include_colab_link": true
    },
    "kernelspec": {
      "name": "python3",
      "display_name": "Python 3"
    },
    "language_info": {
      "name": "python"
    }
  },
  "cells": [
    {
      "cell_type": "markdown",
      "metadata": {
        "id": "view-in-github",
        "colab_type": "text"
      },
      "source": [
        "<a href=\"https://colab.research.google.com/github/elichen/aoc2021/blob/main/Day_25_Sea_Cucumber.ipynb\" target=\"_parent\"><img src=\"https://colab.research.google.com/assets/colab-badge.svg\" alt=\"Open In Colab\"/></a>"
      ]
    },
    {
      "cell_type": "code",
      "execution_count": null,
      "metadata": {
        "id": "KL49Iu6sz5Pg"
      },
      "outputs": [],
      "source": [
        "input = '''v...>>.vv>\n",
        ".vv>>.vv..\n",
        ">>.>v>...v\n",
        ">>v>>.>.v.\n",
        "v>v.vv.v..\n",
        ">.>>..v...\n",
        ".vv..>.>v.\n",
        "v.v..>>v.v\n",
        "....v..v.>'''.split('\\n')"
      ]
    },
    {
      "cell_type": "code",
      "source": [
        "input = [x.rstrip() for x in open(\"input.txt\").readlines()]"
      ],
      "metadata": {
        "id": "DIGlBIIJ8b0a"
      },
      "execution_count": null,
      "outputs": []
    },
    {
      "cell_type": "code",
      "source": [
        "w = len(input[0])\n",
        "h = len(input)"
      ],
      "metadata": {
        "id": "Jv_xWOrv2yTM"
      },
      "execution_count": null,
      "outputs": []
    },
    {
      "cell_type": "code",
      "source": [
        "import numpy as np\n",
        "\n",
        "def readmap(input):\n",
        "  m = np.zeros((h,w))\n",
        "  for row,line in enumerate(input):\n",
        "    for col,c in enumerate(line):\n",
        "      if c == \">\":\n",
        "        m[row,col] = 1\n",
        "      elif c == \"v\":\n",
        "        m[row,col] = 2\n",
        "  return m"
      ],
      "metadata": {
        "id": "kPDi1ZfZ25Cl"
      },
      "execution_count": null,
      "outputs": []
    },
    {
      "cell_type": "code",
      "source": [
        "def do_change(map, typ):\n",
        "  if typ == 1:\n",
        "    dx,dy = 1,0\n",
        "  else:\n",
        "    dx,dy = 0,1\n",
        "  new_map = np.zeros((h,w))\n",
        "  for row in range(h):\n",
        "    for col in range(w):\n",
        "      v = map[row,col]\n",
        "      if v != 0:\n",
        "        if v == typ:\n",
        "          nx,ny = (col+dx)%w,(row+dy)%h\n",
        "          if map[ny,nx] == 0:\n",
        "            new_map[ny,nx] = v\n",
        "          else:\n",
        "            new_map[row,col] = v\n",
        "        else:\n",
        "            new_map[row,col] = v\n",
        "  return new_map\n",
        "\n",
        "m = readmap(input)\n",
        "steps = 0\n",
        "while True:\n",
        "  steps += 1\n",
        "  new_m = do_change(m, 1)\n",
        "  new_m = do_change(new_m, 2)\n",
        "  if np.array_equal(m, new_m):\n",
        "    print(steps)\n",
        "    break\n",
        "  m = new_m"
      ],
      "metadata": {
        "colab": {
          "base_uri": "https://localhost:8080/"
        },
        "id": "e7nmDdFu36E3",
        "outputId": "6667ce9b-4fa6-472c-8a4e-164fc374c1f4"
      },
      "execution_count": null,
      "outputs": [
        {
          "output_type": "stream",
          "name": "stdout",
          "text": [
            "367\n"
          ]
        }
      ]
    }
  ]
}