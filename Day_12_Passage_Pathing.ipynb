{
  "nbformat": 4,
  "nbformat_minor": 0,
  "metadata": {
    "colab": {
      "provenance": [],
      "authorship_tag": "ABX9TyN8lh4b44UVf94nsAMsnu/h",
      "include_colab_link": true
    },
    "kernelspec": {
      "name": "python3",
      "display_name": "Python 3"
    },
    "language_info": {
      "name": "python"
    }
  },
  "cells": [
    {
      "cell_type": "markdown",
      "metadata": {
        "id": "view-in-github",
        "colab_type": "text"
      },
      "source": [
        "<a href=\"https://colab.research.google.com/github/elichen/aoc2021/blob/main/Day_12_Passage_Pathing.ipynb\" target=\"_parent\"><img src=\"https://colab.research.google.com/assets/colab-badge.svg\" alt=\"Open In Colab\"/></a>"
      ]
    },
    {
      "cell_type": "code",
      "execution_count": null,
      "metadata": {
        "id": "nYpbgaQcRohu"
      },
      "outputs": [],
      "source": [
        "input = '''start-A\n",
        "start-b\n",
        "A-c\n",
        "A-b\n",
        "b-d\n",
        "A-end\n",
        "b-end'''\n",
        "input = input.split('\\n')"
      ]
    },
    {
      "cell_type": "code",
      "source": [
        "input = open(\"input.txt\").readlines()\n",
        "input = [x.rstrip() for x in input]"
      ],
      "metadata": {
        "id": "qpUDrGvDz_vq"
      },
      "execution_count": null,
      "outputs": []
    },
    {
      "cell_type": "code",
      "source": [
        "m = {}\n",
        "for line in input:\n",
        "  src,dst = line.split('-')\n",
        "  m[src] = m.get(src,[]) + [dst]\n",
        "  m[dst] = m.get(dst,[]) + [src]"
      ],
      "metadata": {
        "id": "V9XrfRvgRucA"
      },
      "execution_count": null,
      "outputs": []
    },
    {
      "cell_type": "code",
      "source": [
        "paths = []\n",
        "def dfs(node, path):\n",
        "  if node == 'end':\n",
        "    paths.append(path+[node])\n",
        "    return\n",
        "  elif node.islower() and node in path:\n",
        "    return\n",
        "  for n in m[node]:\n",
        "    dfs(n,path+[node])\n",
        "dfs(\"start\",[])\n",
        "len(paths)"
      ],
      "metadata": {
        "colab": {
          "base_uri": "https://localhost:8080/"
        },
        "id": "mXy9_oarShz0",
        "outputId": "8f843433-f47d-46b2-f3bc-7d5fbc870884"
      },
      "execution_count": null,
      "outputs": [
        {
          "output_type": "execute_result",
          "data": {
            "text/plain": [
              "3738"
            ]
          },
          "metadata": {},
          "execution_count": 52
        }
      ]
    },
    {
      "cell_type": "code",
      "source": [
        "paths = []\n",
        "def dfs(node, path):\n",
        "  if node == 'end':\n",
        "    paths.append(path+[node])\n",
        "    return\n",
        "  elif node.islower() and node in path:\n",
        "    if node != 'start' and \"*\" not in path:\n",
        "      path = path+['*']\n",
        "    else:\n",
        "      return\n",
        "  for n in m[node]:\n",
        "    dfs(n,path+[node])\n",
        "dfs(\"start\",[])\n",
        "len(paths)"
      ],
      "metadata": {
        "colab": {
          "base_uri": "https://localhost:8080/"
        },
        "id": "Z2PmG78u1XgF",
        "outputId": "ab89b638-97dc-46ff-9a20-67e2f2f9e1ba"
      },
      "execution_count": null,
      "outputs": [
        {
          "output_type": "execute_result",
          "data": {
            "text/plain": [
              "120506"
            ]
          },
          "metadata": {},
          "execution_count": 53
        }
      ]
    }
  ]
}