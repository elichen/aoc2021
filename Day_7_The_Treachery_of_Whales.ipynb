{
  "nbformat": 4,
  "nbformat_minor": 0,
  "metadata": {
    "colab": {
      "provenance": [],
      "authorship_tag": "ABX9TyMc5AnhBkzHN7C8jJZdoY1O",
      "include_colab_link": true
    },
    "kernelspec": {
      "name": "python3",
      "display_name": "Python 3"
    },
    "language_info": {
      "name": "python"
    }
  },
  "cells": [
    {
      "cell_type": "markdown",
      "metadata": {
        "id": "view-in-github",
        "colab_type": "text"
      },
      "source": [
        "<a href=\"https://colab.research.google.com/github/elichen/aoc2021/blob/main/Day_7_The_Treachery_of_Whales.ipynb\" target=\"_parent\"><img src=\"https://colab.research.google.com/assets/colab-badge.svg\" alt=\"Open In Colab\"/></a>"
      ]
    },
    {
      "cell_type": "code",
      "execution_count": null,
      "metadata": {
        "id": "x3nfw5OdBP27"
      },
      "outputs": [],
      "source": [
        "input = '16,1,2,0,4,2,7,1,2,14'"
      ]
    },
    {
      "cell_type": "code",
      "source": [
        "input = open(\"input.txt\").read().rstrip()"
      ],
      "metadata": {
        "id": "qNTknwo8CPMj"
      },
      "execution_count": null,
      "outputs": []
    },
    {
      "cell_type": "code",
      "source": [
        "cs = list(map(int,input.split(',')))"
      ],
      "metadata": {
        "id": "8q4X6ddaBTiz"
      },
      "execution_count": null,
      "outputs": []
    },
    {
      "cell_type": "code",
      "source": [
        "minc, maxc = min(cs),max(cs)"
      ],
      "metadata": {
        "id": "pA3-dgZ_Bmzr"
      },
      "execution_count": null,
      "outputs": []
    },
    {
      "cell_type": "code",
      "source": [
        "min_fuel = 10**10\n",
        "for p in range(minc,maxc+1):\n",
        "  fuel = sum([abs(x-p) for x in cs])\n",
        "  min_fuel = min(min_fuel, fuel)\n",
        "min_fuel"
      ],
      "metadata": {
        "colab": {
          "base_uri": "https://localhost:8080/"
        },
        "id": "j2UB6_GqBtOj",
        "outputId": "b849101e-07b6-4254-bf2f-82fe8967e2ee"
      },
      "execution_count": null,
      "outputs": [
        {
          "output_type": "execute_result",
          "data": {
            "text/plain": [
              "349357"
            ]
          },
          "metadata": {},
          "execution_count": 51
        }
      ]
    },
    {
      "cell_type": "code",
      "source": [
        "min_fuel = 10**10\n",
        "for p in range(minc,maxc+1):\n",
        "  fuel = sum([((abs(x-p))/2)*(abs(x-p)+1) for x in cs])\n",
        "  min_fuel = min(min_fuel, fuel)\n",
        "min_fuel"
      ],
      "metadata": {
        "colab": {
          "base_uri": "https://localhost:8080/"
        },
        "id": "Ww-fhhb3Dzca",
        "outputId": "95494c75-0b7f-4716-b32f-762ac5653810"
      },
      "execution_count": null,
      "outputs": [
        {
          "output_type": "execute_result",
          "data": {
            "text/plain": [
              "96708205.0"
            ]
          },
          "metadata": {},
          "execution_count": 52
        }
      ]
    }
  ]
}