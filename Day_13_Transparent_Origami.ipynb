{
  "nbformat": 4,
  "nbformat_minor": 0,
  "metadata": {
    "colab": {
      "provenance": [],
      "authorship_tag": "ABX9TyPoRlm4ZSlKwX/BKnHgApwh",
      "include_colab_link": true
    },
    "kernelspec": {
      "name": "python3",
      "display_name": "Python 3"
    },
    "language_info": {
      "name": "python"
    }
  },
  "cells": [
    {
      "cell_type": "markdown",
      "metadata": {
        "id": "view-in-github",
        "colab_type": "text"
      },
      "source": [
        "<a href=\"https://colab.research.google.com/github/elichen/aoc2021/blob/main/Day_13_Transparent_Origami.ipynb\" target=\"_parent\"><img src=\"https://colab.research.google.com/assets/colab-badge.svg\" alt=\"Open In Colab\"/></a>"
      ]
    },
    {
      "cell_type": "code",
      "execution_count": null,
      "metadata": {
        "id": "b00d84oVX8xG"
      },
      "outputs": [],
      "source": [
        "input = '''6,10\n",
        "0,14\n",
        "9,10\n",
        "0,3\n",
        "10,4\n",
        "4,11\n",
        "6,0\n",
        "6,12\n",
        "4,1\n",
        "0,13\n",
        "10,12\n",
        "3,4\n",
        "3,0\n",
        "8,4\n",
        "1,10\n",
        "2,14\n",
        "8,10\n",
        "9,0\n",
        "\n",
        "fold along y=7\n",
        "fold along x=5'''\n",
        "input = input.split('\\n')"
      ]
    },
    {
      "cell_type": "code",
      "source": [
        "input = open(\"input.txt\").readlines()\n",
        "input = [x.rstrip() for x in input]"
      ],
      "metadata": {
        "id": "DOCNfUZhZZhH"
      },
      "execution_count": null,
      "outputs": []
    },
    {
      "cell_type": "code",
      "source": [
        "import numpy as np\n",
        "np.set_printoptions(threshold=np.inf)\n",
        "np.set_printoptions(linewidth=np.inf)"
      ],
      "metadata": {
        "id": "bj_27qu_YC-P"
      },
      "execution_count": null,
      "outputs": []
    },
    {
      "cell_type": "code",
      "source": [
        "rows,cols = 0,0\n",
        "folds = []\n",
        "m = None\n",
        "\n",
        "def reset():\n",
        "  global rows,cols,folds,m\n",
        "  for line in input:\n",
        "    if line == \"\": break\n",
        "    c,r = list(map(int,line.split(',')))\n",
        "    rows,cols = max(rows,r+1), max(cols,c+1)\n",
        "  m = np.zeros((rows,cols))\n",
        "\n",
        "  line_i = 0\n",
        "  while input[line_i] != \"\":\n",
        "    c,r = list(map(int,input[line_i].split(',')))\n",
        "    m[r,c] = 1\n",
        "    line_i += 1\n",
        "  line_i+=1\n",
        "\n",
        "  folds = []\n",
        "  while line_i < len(input):\n",
        "    tmp = input[line_i].split()[-1].split(\"=\")\n",
        "    folds.append((tmp[0],int(tmp[1])))\n",
        "    line_i += 1"
      ],
      "metadata": {
        "id": "378v_mblZGn4"
      },
      "execution_count": null,
      "outputs": []
    },
    {
      "cell_type": "code",
      "source": [
        "reset()\n",
        "fold = folds[0]\n",
        "for r in range(rows):\n",
        "  for c in range(cols):\n",
        "    if m[r,c] == 1:\n",
        "      if fold[0] == 'x' and c > fold[1]:\n",
        "        m[r,cols-c-1] = 1\n",
        "        m[r,c] = 0\n",
        "      if fold[0] == 'y' and r > fold[1]:\n",
        "        m[rows-r-1,c] = 1\n",
        "        m[r,c] = 0\n",
        "len(m[m==1])"
      ],
      "metadata": {
        "colab": {
          "base_uri": "https://localhost:8080/"
        },
        "id": "8_YQJHeKVSwQ",
        "outputId": "018158a3-8cf7-44d0-9870-d58064c56687"
      },
      "execution_count": null,
      "outputs": [
        {
          "output_type": "execute_result",
          "data": {
            "text/plain": [
              "704"
            ]
          },
          "metadata": {},
          "execution_count": 61
        }
      ]
    },
    {
      "cell_type": "code",
      "source": [
        "folds"
      ],
      "metadata": {
        "colab": {
          "base_uri": "https://localhost:8080/"
        },
        "id": "3ojzbOO92B7y",
        "outputId": "b759056e-2963-40e8-88b4-cdeb13155d05"
      },
      "execution_count": null,
      "outputs": [
        {
          "output_type": "execute_result",
          "data": {
            "text/plain": [
              "[('x', 655),\n",
              " ('y', 447),\n",
              " ('x', 327),\n",
              " ('y', 223),\n",
              " ('x', 163),\n",
              " ('y', 111),\n",
              " ('x', 81),\n",
              " ('y', 55),\n",
              " ('x', 40),\n",
              " ('y', 27),\n",
              " ('y', 13),\n",
              " ('y', 6)]"
            ]
          },
          "metadata": {},
          "execution_count": 62
        }
      ]
    },
    {
      "cell_type": "code",
      "source": [
        "reset()\n",
        "for fold in folds:\n",
        "  ones = np.argwhere(m == 1)\n",
        "  small_m = m[min(ones[:,0]):max(ones[:,0])+1,min(ones[:,1]):max(ones[:,1])+1]\n",
        "  print(fold, small_m.shape)\n",
        "  for r in range(rows):\n",
        "    for c in range(cols):\n",
        "      if m[r,c] == 1:\n",
        "        if fold[0] == 'x' and c > fold[1]:\n",
        "          m[r,fold[1]-(c-fold[1])] = 1\n",
        "          m[r,c] = 0\n",
        "        if fold[0] == 'y' and r > fold[1]:\n",
        "          m[fold[1]-(r-fold[1]),c] = 1\n",
        "          m[r,c] = 0"
      ],
      "metadata": {
        "colab": {
          "base_uri": "https://localhost:8080/"
        },
        "id": "su5UHbhedHoY",
        "outputId": "77f155ab-ea7f-4e49-96e5-fbc2fbc2300b"
      },
      "execution_count": null,
      "outputs": [
        {
          "output_type": "stream",
          "name": "stdout",
          "text": [
            "('x', 655) (895, 1310)\n",
            "('y', 447) (895, 655)\n",
            "('x', 327) (447, 655)\n",
            "('y', 223) (447, 327)\n",
            "('x', 163) (223, 327)\n",
            "('y', 111) (223, 163)\n",
            "('x', 81) (111, 163)\n",
            "('y', 55) (111, 81)\n",
            "('x', 40) (55, 81)\n",
            "('y', 27) (55, 39)\n",
            "('y', 13) (27, 39)\n",
            "('y', 6) (13, 39)\n"
          ]
        }
      ]
    },
    {
      "cell_type": "code",
      "source": [
        "from PIL import Image\n",
        "Image.fromarray(np.asarray(small_m, dtype=np.uint8) * 255)"
      ],
      "metadata": {
        "colab": {
          "base_uri": "https://localhost:8080/",
          "height": 34
        },
        "id": "_gZUlxLw0iRM",
        "outputId": "fc003548-ce42-4ab7-eb3c-249abad42755"
      },
      "execution_count": null,
      "outputs": [
        {
          "output_type": "execute_result",
          "data": {
            "text/plain": [
              "<PIL.Image.Image image mode=L size=39x13 at 0x7FB601D6D1C0>"
            ],
            "image/png": "[encoded data removed]"
          },
          "metadata": {},
          "execution_count": 67
        }
      ]
    }
  ]
}