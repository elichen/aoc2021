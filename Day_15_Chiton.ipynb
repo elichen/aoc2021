{
  "nbformat": 4,
  "nbformat_minor": 0,
  "metadata": {
    "colab": {
      "provenance": [],
      "authorship_tag": "ABX9TyPXpRh/4C+T439CbXV0KkcS",
      "include_colab_link": true
    },
    "kernelspec": {
      "name": "python3",
      "display_name": "Python 3"
    },
    "language_info": {
      "name": "python"
    }
  },
  "cells": [
    {
      "cell_type": "markdown",
      "metadata": {
        "id": "view-in-github",
        "colab_type": "text"
      },
      "source": [
        "<a href=\"https://colab.research.google.com/github/elichen/aoc2021/blob/main/Day_15_Chiton.ipynb\" target=\"_parent\"><img src=\"https://colab.research.google.com/assets/colab-badge.svg\" alt=\"Open In Colab\"/></a>"
      ]
    },
    {
      "cell_type": "code",
      "execution_count": null,
      "metadata": {
        "id": "BpbkBd33JuRa"
      },
      "outputs": [],
      "source": [
        "input = '''1163751742\n",
        "1381373672\n",
        "2136511328\n",
        "3694931569\n",
        "7463417111\n",
        "1319128137\n",
        "1359912421\n",
        "3125421639\n",
        "1293138521\n",
        "2311944581'''\n",
        "input = input.split('\\n')"
      ]
    },
    {
      "cell_type": "code",
      "source": [
        "input = open(\"input.txt\").readlines()\n",
        "input = [x.rstrip() for x in input]"
      ],
      "metadata": {
        "id": "Ynzo5AwKuVSE"
      },
      "execution_count": null,
      "outputs": []
    },
    {
      "cell_type": "code",
      "source": [
        "import numpy as np\n",
        "np.set_printoptions(edgeitems=30, linewidth=100000,\n",
        "    formatter=dict(float=lambda x: \"%.3g\" % x))\n",
        "\n",
        "rows = len(input)\n",
        "cols = len(input[0])\n",
        "m = np.zeros((rows,cols))"
      ],
      "metadata": {
        "id": "P2f0ha7DJzCc"
      },
      "execution_count": null,
      "outputs": []
    },
    {
      "cell_type": "code",
      "source": [
        "for row,line in enumerate(input):\n",
        "  for col,c in enumerate(line):\n",
        "    m[row,col] = int(c)"
      ],
      "metadata": {
        "id": "o6u_48n8KAHT"
      },
      "execution_count": null,
      "outputs": []
    },
    {
      "cell_type": "code",
      "source": [
        "risks = np.zeros((rows,cols))\n",
        "def bfs(r,c):\n",
        "  next = [(r,c)]\n",
        "  while len(next):\n",
        "    nxt = []\n",
        "    for r,c in next:\n",
        "      if r > 0:\n",
        "        nr = m[r-1,c]+risks[r,c]\n",
        "        if risks[r-1,c] == 0 or risks[r-1,c] > nr:\n",
        "          risks[r-1,c] = nr\n",
        "          nxt.append((r-1,c))\n",
        "      if r < rows-1:\n",
        "        nr = m[r+1,c]+risks[r,c]\n",
        "        if risks[r+1,c] == 0 or risks[r+1,c] > nr:\n",
        "          risks[r+1,c] = nr\n",
        "          nxt.append((r+1,c))\n",
        "      if c > 0:\n",
        "        nr = m[r,c-1]+risks[r,c]\n",
        "        if risks[r,c-1] == 0 or risks[r,c-1] > nr:\n",
        "          risks[r,c-1] = nr\n",
        "          nxt.append((r,c-1))\n",
        "      if c < cols-1:\n",
        "        nr = m[r,c+1]+risks[r,c]\n",
        "        if risks[r,c+1] == 0 or risks[r,c+1] > nr:\n",
        "          risks[r,c+1] = nr\n",
        "          nxt.append((r,c+1))\n",
        "    next = nxt\n",
        "risks[rows-1,cols-1] = m[rows-1,cols-1]\n",
        "bfs(rows-1,cols-1)\n",
        "risks[0,0]-m[0,0]"
      ],
      "metadata": {
        "colab": {
          "base_uri": "https://localhost:8080/"
        },
        "id": "9AvNbxUyKXrh",
        "outputId": "eb2f98e6-ef79-4c52-dc45-8683e23fa883"
      },
      "execution_count": null,
      "outputs": [
        {
          "output_type": "execute_result",
          "data": {
            "text/plain": [
              "498.0"
            ]
          },
          "metadata": {},
          "execution_count": 63
        }
      ]
    },
    {
      "cell_type": "code",
      "source": [
        "m2 = np.zeros((rows*5,cols*5))\n",
        "for i in range(5):\n",
        "  for j in range(5):\n",
        "    for r in range(rows):\n",
        "      for c in range(cols):\n",
        "        m2[i*rows+r,j*cols+c] = (m[r,c]+i+j-1)%9+1\n",
        "rows,cols = rows*5,cols*5\n",
        "m = m2"
      ],
      "metadata": {
        "id": "7yDqOViJrJKC"
      },
      "execution_count": null,
      "outputs": []
    },
    {
      "cell_type": "code",
      "source": [
        "risks = np.zeros((rows,cols))\n",
        "def bfs(r,c):\n",
        "  next = [(r,c)]\n",
        "  while len(next):\n",
        "    nxt = []\n",
        "    for r,c in next:\n",
        "      if r > 0:\n",
        "        nr = m[r-1,c]+risks[r,c]\n",
        "        if risks[r-1,c] == 0 or risks[r-1,c] > nr:\n",
        "          risks[r-1,c] = nr\n",
        "          nxt.append((r-1,c))\n",
        "      if r < rows-1:\n",
        "        nr = m[r+1,c]+risks[r,c]\n",
        "        if risks[r+1,c] == 0 or risks[r+1,c] > nr:\n",
        "          risks[r+1,c] = nr\n",
        "          nxt.append((r+1,c))\n",
        "      if c > 0:\n",
        "        nr = m[r,c-1]+risks[r,c]\n",
        "        if risks[r,c-1] == 0 or risks[r,c-1] > nr:\n",
        "          risks[r,c-1] = nr\n",
        "          nxt.append((r,c-1))\n",
        "      if c < cols-1:\n",
        "        nr = m[r,c+1]+risks[r,c]\n",
        "        if risks[r,c+1] == 0 or risks[r,c+1] > nr:\n",
        "          risks[r,c+1] = nr\n",
        "          nxt.append((r,c+1))\n",
        "    next = nxt\n",
        "risks[rows-1,cols-1] = m[rows-1,cols-1]\n",
        "bfs(rows-1,cols-1)\n",
        "risks[0,0]-m[0,0]"
      ],
      "metadata": {
        "colab": {
          "base_uri": "https://localhost:8080/"
        },
        "id": "uXW59ap5yzL6",
        "outputId": "b4344348-e427-492c-fb21-84ced4fbc4bc"
      },
      "execution_count": null,
      "outputs": [
        {
          "output_type": "execute_result",
          "data": {
            "text/plain": [
              "2901.0"
            ]
          },
          "metadata": {},
          "execution_count": 65
        }
      ]
    }
  ]
}