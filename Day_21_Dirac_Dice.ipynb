{
  "nbformat": 4,
  "nbformat_minor": 0,
  "metadata": {
    "colab": {
      "provenance": [],
      "authorship_tag": "ABX9TyM5aeUgGWUOI2XOsusuZFxu",
      "include_colab_link": true
    },
    "kernelspec": {
      "name": "python3",
      "display_name": "Python 3"
    },
    "language_info": {
      "name": "python"
    }
  },
  "cells": [
    {
      "cell_type": "markdown",
      "metadata": {
        "id": "view-in-github",
        "colab_type": "text"
      },
      "source": [
        "<a href=\"https://colab.research.google.com/github/elichen/aoc2021/blob/main/Day_21_Dirac_Dice.ipynb\" target=\"_parent\"><img src=\"https://colab.research.google.com/assets/colab-badge.svg\" alt=\"Open In Colab\"/></a>"
      ]
    },
    {
      "cell_type": "code",
      "execution_count": null,
      "metadata": {
        "id": "8zAZd9ww9-AW"
      },
      "outputs": [],
      "source": [
        "input = '''Player 1 starting position: 4\n",
        "Player 2 starting position: 8'''.split('\\n')"
      ]
    },
    {
      "cell_type": "code",
      "source": [
        "input = '''Player 1 starting position: 10\n",
        "Player 2 starting position: 3'''.split('\\n')"
      ],
      "metadata": {
        "id": "e9lpVPnoWbEn"
      },
      "execution_count": null,
      "outputs": []
    },
    {
      "cell_type": "code",
      "source": [
        "p1 = int(input[0].split()[-1])-1 # 0 indx\n",
        "p2 = int(input[1].split()[-1])-1 # 0 indx\n",
        "p1c, p2c = 0,0\n",
        "die = 99 # 0 indx\n",
        "rolls = 0\n",
        "while True:\n",
        "  for _ in range(3):\n",
        "    die = (die+1)%100\n",
        "    rolls += 1\n",
        "    p1 = (p1+die+1)%10\n",
        "  p1c += p1+1\n",
        "  if p1c >= 1000: break\n",
        "  for _ in range(3):\n",
        "    die = (die+1)%100\n",
        "    rolls += 1\n",
        "    p2 = (p2+die+1)%10\n",
        "  p2c += p2+1\n",
        "  if p2c >= 1000: break\n",
        "rolls * min(p1c,p2c)"
      ],
      "metadata": {
        "colab": {
          "base_uri": "https://localhost:8080/"
        },
        "id": "zenb0Yas-SZt",
        "outputId": "2ec244f9-cb86-4b9f-89f9-27d3b71bf44f"
      },
      "execution_count": null,
      "outputs": [
        {
          "output_type": "execute_result",
          "data": {
            "text/plain": [
              "742257"
            ]
          },
          "metadata": {},
          "execution_count": 10
        }
      ]
    },
    {
      "cell_type": "code",
      "source": [
        "from collections import Counter\n",
        "\n",
        "triplets = [(i, j, k) for i in range(1, 4) for j in range(1, 4) for k in range(1, 4)]\n",
        "rolls = Counter(sorted(list(map(sum,triplets))))\n",
        "rolls"
      ],
      "metadata": {
        "colab": {
          "base_uri": "https://localhost:8080/"
        },
        "id": "Ub0I7ngsBZaF",
        "outputId": "361eaad4-a5b8-4168-a115-8f3e7dd8be85"
      },
      "execution_count": null,
      "outputs": [
        {
          "output_type": "execute_result",
          "data": {
            "text/plain": [
              "Counter({3: 1, 4: 3, 5: 6, 6: 7, 7: 6, 8: 3, 9: 1})"
            ]
          },
          "metadata": {},
          "execution_count": 11
        }
      ]
    },
    {
      "cell_type": "code",
      "source": [
        "def run():\n",
        "  p1 = int(input[0].split()[-1])-1 # 0 indx\n",
        "  p2 = int(input[1].split()[-1])-1 # 0 indx\n",
        "  totals = Counter([(p1,0,p2,0)]) # pos1, score1, pos2, score2\n",
        "  p1wins = 0\n",
        "  p2wins = 0\n",
        "  while len(totals):\n",
        "    new_totals = Counter()\n",
        "    for pk,kv in totals.items():\n",
        "      pos1, score1, pos2, score2 = pk\n",
        "      for rk,rv in rolls.items():\n",
        "        dst = (pos1+rk)%10\n",
        "        score = score1+dst+1\n",
        "        if score >= 21:\n",
        "          p1wins += kv*rv\n",
        "        else:\n",
        "          new_totals.update({(dst, score, pos2, score2):kv*rv})\n",
        "    totals = new_totals\n",
        "\n",
        "    new_totals = Counter()\n",
        "    for pk,kv in totals.items():\n",
        "      pos1, score1, pos2, score2 = pk\n",
        "      for rk,rv in rolls.items():\n",
        "        dst = (pos2+rk)%10\n",
        "        score = score2+dst+1\n",
        "        if score >= 21:\n",
        "          p2wins += kv*rv\n",
        "        else:\n",
        "          new_totals.update({(pos1, score1, dst, score):kv*rv})\n",
        "    totals = new_totals\n",
        "  return p1wins, p2wins\n",
        "run()"
      ],
      "metadata": {
        "colab": {
          "base_uri": "https://localhost:8080/"
        },
        "id": "Iw6Ru8x9Pw_b",
        "outputId": "f6bdbdba-f98b-4c1c-c403-df99fb1dda1e"
      },
      "execution_count": null,
      "outputs": [
        {
          "output_type": "execute_result",
          "data": {
            "text/plain": [
              "(93726416205179, 49950658789496)"
            ]
          },
          "metadata": {},
          "execution_count": 12
        }
      ]
    },
    {
      "cell_type": "code",
      "source": [
        "max(93726416205179, 49950658789496)"
      ],
      "metadata": {
        "colab": {
          "base_uri": "https://localhost:8080/"
        },
        "id": "OLPQAImbYEBn",
        "outputId": "60d17bac-29af-4fb2-e244-40fa8d6b575a"
      },
      "execution_count": null,
      "outputs": [
        {
          "output_type": "execute_result",
          "data": {
            "text/plain": [
              "93726416205179"
            ]
          },
          "metadata": {},
          "execution_count": 14
        }
      ]
    }
  ]
}