{
  "nbformat": 4,
  "nbformat_minor": 0,
  "metadata": {
    "colab": {
      "provenance": [],
      "authorship_tag": "ABX9TyNNwyU4utVEK29tF0jVgAh3",
      "include_colab_link": true
    },
    "kernelspec": {
      "name": "python3",
      "display_name": "Python 3"
    },
    "language_info": {
      "name": "python"
    }
  },
  "cells": [
    {
      "cell_type": "markdown",
      "metadata": {
        "id": "view-in-github",
        "colab_type": "text"
      },
      "source": [
        "<a href=\"https://colab.research.google.com/github/elichen/aoc2021/blob/main/Day_22_Reactor_Reboot.ipynb\" target=\"_parent\"><img src=\"https://colab.research.google.com/assets/colab-badge.svg\" alt=\"Open In Colab\"/></a>"
      ]
    },
    {
      "cell_type": "code",
      "source": [
        "import re\n",
        "import numpy as np"
      ],
      "metadata": {
        "id": "aW8Lbvy2godT"
      },
      "execution_count": null,
      "outputs": []
    },
    {
      "cell_type": "code",
      "execution_count": null,
      "metadata": {
        "id": "M4cEMkVKeZt4"
      },
      "outputs": [],
      "source": [
        "input = '''on x=-5..47,y=-31..22,z=-19..33\n",
        "on x=-44..5,y=-27..21,z=-14..35\n",
        "on x=-49..-1,y=-11..42,z=-10..38\n",
        "on x=-20..34,y=-40..6,z=-44..1\n",
        "off x=26..39,y=40..50,z=-2..11\n",
        "on x=-41..5,y=-41..6,z=-36..8\n",
        "off x=-43..-33,y=-45..-28,z=7..25\n",
        "on x=-33..15,y=-32..19,z=-34..11\n",
        "off x=35..47,y=-46..-34,z=-11..5\n",
        "on x=-14..36,y=-6..44,z=-16..29\n",
        "on x=-57795..-6158,y=29564..72030,z=20435..90618\n",
        "on x=36731..105352,y=-21140..28532,z=16094..90401\n",
        "on x=30999..107136,y=-53464..15513,z=8553..71215\n",
        "on x=13528..83982,y=-99403..-27377,z=-24141..23996\n",
        "on x=-72682..-12347,y=18159..111354,z=7391..80950\n",
        "on x=-1060..80757,y=-65301..-20884,z=-103788..-16709\n",
        "on x=-83015..-9461,y=-72160..-8347,z=-81239..-26856\n",
        "on x=-52752..22273,y=-49450..9096,z=54442..119054\n",
        "on x=-29982..40483,y=-108474..-28371,z=-24328..38471\n",
        "on x=-4958..62750,y=40422..118853,z=-7672..65583\n",
        "on x=55694..108686,y=-43367..46958,z=-26781..48729\n",
        "on x=-98497..-18186,y=-63569..3412,z=1232..88485\n",
        "on x=-726..56291,y=-62629..13224,z=18033..85226\n",
        "on x=-110886..-34664,y=-81338..-8658,z=8914..63723\n",
        "on x=-55829..24974,y=-16897..54165,z=-121762..-28058\n",
        "on x=-65152..-11147,y=22489..91432,z=-58782..1780\n",
        "on x=-120100..-32970,y=-46592..27473,z=-11695..61039\n",
        "on x=-18631..37533,y=-124565..-50804,z=-35667..28308\n",
        "on x=-57817..18248,y=49321..117703,z=5745..55881\n",
        "on x=14781..98692,y=-1341..70827,z=15753..70151\n",
        "on x=-34419..55919,y=-19626..40991,z=39015..114138\n",
        "on x=-60785..11593,y=-56135..2999,z=-95368..-26915\n",
        "on x=-32178..58085,y=17647..101866,z=-91405..-8878\n",
        "on x=-53655..12091,y=50097..105568,z=-75335..-4862\n",
        "on x=-111166..-40997,y=-71714..2688,z=5609..50954\n",
        "on x=-16602..70118,y=-98693..-44401,z=5197..76897\n",
        "on x=16383..101554,y=4615..83635,z=-44907..18747\n",
        "off x=-95822..-15171,y=-19987..48940,z=10804..104439\n",
        "on x=-89813..-14614,y=16069..88491,z=-3297..45228\n",
        "on x=41075..99376,y=-20427..49978,z=-52012..13762\n",
        "on x=-21330..50085,y=-17944..62733,z=-112280..-30197\n",
        "on x=-16478..35915,y=36008..118594,z=-7885..47086\n",
        "off x=-98156..-27851,y=-49952..43171,z=-99005..-8456\n",
        "off x=2032..69770,y=-71013..4824,z=7471..94418\n",
        "on x=43670..120875,y=-42068..12382,z=-24787..38892\n",
        "off x=37514..111226,y=-45862..25743,z=-16714..54663\n",
        "off x=25699..97951,y=-30668..59918,z=-15349..69697\n",
        "off x=-44271..17935,y=-9516..60759,z=49131..112598\n",
        "on x=-61695..-5813,y=40978..94975,z=8655..80240\n",
        "off x=-101086..-9439,y=-7088..67543,z=33935..83858\n",
        "off x=18020..114017,y=-48931..32606,z=21474..89843\n",
        "off x=-77139..10506,y=-89994..-18797,z=-80..59318\n",
        "off x=8476..79288,y=-75520..11602,z=-96624..-24783\n",
        "on x=-47488..-1262,y=24338..100707,z=16292..72967\n",
        "off x=-84341..13987,y=2429..92914,z=-90671..-1318\n",
        "off x=-37810..49457,y=-71013..-7894,z=-105357..-13188\n",
        "off x=-27365..46395,y=31009..98017,z=15428..76570\n",
        "off x=-70369..-16548,y=22648..78696,z=-1892..86821\n",
        "on x=-53470..21291,y=-120233..-33476,z=-44150..38147\n",
        "off x=-93533..-4276,y=-16170..68771,z=-104985..-24507'''.split('\\n')"
      ]
    },
    {
      "cell_type": "code",
      "source": [
        "# input = '''on x=10..12,y=10..12,z=10..12\n",
        "# on x=11..13,y=11..13,z=11..13\n",
        "# off x=9..11,y=9..11,z=9..11\n",
        "# on x=10..10,y=10..10,z=10..10'''.split('\\n')"
      ],
      "metadata": {
        "id": "TFis83Ra3dpf"
      },
      "execution_count": null,
      "outputs": []
    },
    {
      "cell_type": "code",
      "source": [
        "input = [x.rstrip() for x in open(\"input.txt\").readlines()]"
      ],
      "metadata": {
        "id": "-y8xH-D7k1c-"
      },
      "execution_count": null,
      "outputs": []
    },
    {
      "cell_type": "code",
      "source": [
        "cb = np.zeros((101,101,101))\n",
        "for line in input:\n",
        "  op, rs = line.split()\n",
        "  xs,ys,zs = [list(map(lambda x: int(x)+50, re.findall(r\"-?\\d+\", x))) for x in rs.split(',')]\n",
        "  cb[max(xs[0],0):min(xs[1],100)+1, max(ys[0],0):min(ys[1],100)+1, max(zs[0],0):min(zs[1],100)+1] = 1 if op == \"on\" else 0\n",
        "np.count_nonzero(cb)"
      ],
      "metadata": {
        "colab": {
          "base_uri": "https://localhost:8080/"
        },
        "id": "3DzKdhkQe-Sa",
        "outputId": "dc2b421c-958f-423e-c769-a2b04b564d00"
      },
      "execution_count": null,
      "outputs": [
        {
          "output_type": "execute_result",
          "data": {
            "text/plain": [
              "524792"
            ]
          },
          "metadata": {},
          "execution_count": 135
        }
      ]
    },
    {
      "cell_type": "code",
      "source": [
        "def cut_cuboids(cuboid1, cuboid2):\n",
        "    x1, y1, z1 = cuboid1\n",
        "    x2, y2, z2 = cuboid2\n",
        "\n",
        "    # Check if the two cuboids intersect\n",
        "    if x2[0] > x1[1] or x2[1] < x1[0] or \\\n",
        "       y2[0] > y1[1] or y2[1] < y1[0] or \\\n",
        "       z2[0] > z1[1] or z2[1] < z1[0]:\n",
        "       return [cuboid1]  # No intersection, return the original cuboid\n",
        "    x2 = max(x1[0],x2[0]), min(x1[1],x2[1])\n",
        "    y2 = max(y1[0],y2[0]), min(y1[1],y2[1])\n",
        "    z2 = max(z1[0],z2[0]), min(z1[1],z2[1])\n",
        "\n",
        "    res = []\n",
        "\n",
        "    # Cut out cuboid2 from cuboid1\n",
        "    result = []\n",
        "    if x2[0] > x1[0]:\n",
        "        result.append(((x1[0], x2[0]-1), y1, z1))\n",
        "    if x2[1] < x1[1]:\n",
        "        result.append(((x2[1]+1, x1[1]), y1, z1))\n",
        "    if y2[0] > y1[0]:\n",
        "        result.append((x2, (y1[0], y2[0]-1), z1))\n",
        "    if y2[1] < y1[1]:\n",
        "        result.append((x2, (y2[1]+1, y1[1]), z1))\n",
        "    if z2[0] > z1[0]:\n",
        "        result.append((x2, y2, (z1[0], z2[0]-1)))\n",
        "    if z2[1] < z1[1]:\n",
        "        result.append((x2, y2, (z2[1]+1, z1[1])))\n",
        "\n",
        "    return result"
      ],
      "metadata": {
        "id": "Hj6Hh49xulN-"
      },
      "execution_count": null,
      "outputs": []
    },
    {
      "cell_type": "code",
      "source": [
        "def volume(cuboid):\n",
        "  x,y,z = cuboid\n",
        "  return (x[1]-x[0]+1)*(y[1]-y[0]+1)*(z[1]-z[0]+1)"
      ],
      "metadata": {
        "id": "_kl8ATWz2Qv0"
      },
      "execution_count": null,
      "outputs": []
    },
    {
      "cell_type": "code",
      "source": [
        "cut_cuboids(((0,2),(0,2),(0,2)), ((-1,1),(-1,1),(-1,1)))"
      ],
      "metadata": {
        "colab": {
          "base_uri": "https://localhost:8080/"
        },
        "id": "y7iZyL9Da_mL",
        "outputId": "26e15613-69cd-419c-8be2-c6fd59518bbb"
      },
      "execution_count": null,
      "outputs": [
        {
          "output_type": "execute_result",
          "data": {
            "text/plain": [
              "[((2, 2), (0, 2), (0, 2)), ((0, 1), (2, 2), (0, 2)), ((0, 1), (0, 1), (2, 2))]"
            ]
          },
          "metadata": {},
          "execution_count": 138
        }
      ]
    },
    {
      "cell_type": "code",
      "source": [
        "# Test non-intersecting cuboids\n",
        "assert cut_cuboids(((0, 0), (0, 0), (0, 0)), ((1, 1), (1, 1), (1, 1))) == [((0, 0), (0, 0), (0, 0))]\n",
        "\n",
        "# Test nested cuboids\n",
        "assert cut_cuboids(((0, 2), (0, 2), (0, 2)), ((1, 1), (1, 1), (1, 1))) == [((0, 0), (0, 2), (0, 2)),\n",
        " ((2, 2), (0, 2), (0, 2)),\n",
        " ((1, 1), (0, 0), (0, 2)),\n",
        " ((1, 1), (2, 2), (0, 2)),\n",
        " ((1, 1), (1, 1), (0, 0)),\n",
        " ((1, 1), (1, 1), (2, 2))]\n",
        "\n",
        "# Test intersecting cuboids\n",
        "assert cut_cuboids(((0, 1), (0, 1), (0, 1)), ((0, 0), (0, 0), (0, 0))) == [((1, 1), (0, 1), (0, 1)), ((0, 0), (1, 1), (0, 1)), ((0, 0), (0, 0), (1, 1))]\n",
        "\n",
        "assert cut_cuboids(((10,12),(10,12),(10,12)), ((11,13),(11,13),(11,13))) == [((10, 10), (10, 12), (10, 12)),\n",
        " ((11, 12), (10, 10), (10, 12)),\n",
        " ((11, 12), (11, 12), (10, 10))]"
      ],
      "metadata": {
        "id": "gXbzUrZguumq"
      },
      "execution_count": null,
      "outputs": []
    },
    {
      "cell_type": "markdown",
      "source": [],
      "metadata": {
        "id": "w_UYFBdZ3A1E"
      }
    },
    {
      "cell_type": "code",
      "source": [
        "cbs = []\n",
        "for line in input:\n",
        "  op, rs = line.split()\n",
        "  cuboid = [list(map(lambda x: int(x), re.findall(r\"-?\\d+\", x))) for x in rs.split(',')]\n",
        "  if op == \"on\":\n",
        "    to_add = [cuboid]\n",
        "    for cb in cbs:\n",
        "      new_to_add = []\n",
        "      for ta in to_add:\n",
        "        new_to_add += cut_cuboids(ta, cb)\n",
        "      to_add = new_to_add\n",
        "    cbs += to_add\n",
        "  else:\n",
        "    new_cbs = []\n",
        "    for cb in cbs:\n",
        "      new_cbs += cut_cuboids(cb, cuboid)\n",
        "    cbs = new_cbs\n",
        "sum([volume(x) for x in cbs])"
      ],
      "metadata": {
        "id": "rqxivVxYZzwg",
        "colab": {
          "base_uri": "https://localhost:8080/"
        },
        "outputId": "996a3a51-b997-4f81-9433-44334c76708f"
      },
      "execution_count": null,
      "outputs": [
        {
          "output_type": "execute_result",
          "data": {
            "text/plain": [
              "1213461324555691"
            ]
          },
          "metadata": {},
          "execution_count": 140
        }
      ]
    }
  ]
}