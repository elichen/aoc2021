{
  "nbformat": 4,
  "nbformat_minor": 0,
  "metadata": {
    "colab": {
      "provenance": [],
      "authorship_tag": "ABX9TyPWJ6aY9kuiWDYOkSoXMU6S",
      "include_colab_link": true
    },
    "kernelspec": {
      "name": "python3",
      "display_name": "Python 3"
    },
    "language_info": {
      "name": "python"
    }
  },
  "cells": [
    {
      "cell_type": "markdown",
      "metadata": {
        "id": "view-in-github",
        "colab_type": "text"
      },
      "source": [
        "<a href=\"https://colab.research.google.com/github/elichen/aoc2021/blob/main/Day_18_Snailfish.ipynb\" target=\"_parent\"><img src=\"https://colab.research.google.com/assets/colab-badge.svg\" alt=\"Open In Colab\"/></a>"
      ]
    },
    {
      "cell_type": "code",
      "execution_count": 4,
      "metadata": {
        "colab": {
          "base_uri": "https://localhost:8080/"
        },
        "id": "IGJ0C9ctnHnJ",
        "outputId": "9ef5a769-4b50-4174-99d1-9609938df8bd"
      },
      "outputs": [
        {
          "output_type": "execute_result",
          "data": {
            "text/plain": [
              "3665"
            ]
          },
          "metadata": {},
          "execution_count": 4
        }
      ],
      "source": [
        "import ast\n",
        "import math\n",
        "\n",
        "def add(a, b):\n",
        "    return reduce([a, b])\n",
        "\n",
        "def reduce(x):\n",
        "    while True:\n",
        "        x, exploded, _, _ = explode(x)\n",
        "        if exploded:\n",
        "            continue\n",
        "        x, split = split_number(x)\n",
        "        if split:\n",
        "            continue\n",
        "        return x\n",
        "\n",
        "def explode(x, depth=0):\n",
        "    if isinstance(x, int):\n",
        "        return x, False, 0, 0\n",
        "    if depth == 4:\n",
        "        return 0, True, x[0], x[1]\n",
        "\n",
        "    left, exploded, left_remainder, right_remainder = explode(x[0], depth + 1)\n",
        "    if exploded:\n",
        "        return [left, add_to_leftmost(x[1], right_remainder)], True, left_remainder, 0\n",
        "\n",
        "    right, exploded, left_remainder, right_remainder = explode(x[1], depth + 1)\n",
        "    if exploded:\n",
        "        return [add_to_rightmost(x[0], left_remainder), right], True, 0, right_remainder\n",
        "\n",
        "    return [left, right], False, 0, 0\n",
        "\n",
        "def split_number(x):\n",
        "    if isinstance(x, int):\n",
        "        if x >= 10:\n",
        "            return [x // 2, math.ceil(x / 2)], True\n",
        "        return x, False\n",
        "\n",
        "    left, split = split_number(x[0])\n",
        "    if split:\n",
        "        return [left, x[1]], True\n",
        "\n",
        "    right, split = split_number(x[1])\n",
        "    return [left, right], split\n",
        "\n",
        "def add_to_leftmost(x, n):\n",
        "    if isinstance(x, int):\n",
        "        return x + n\n",
        "    return [add_to_leftmost(x[0], n), x[1]]\n",
        "\n",
        "def add_to_rightmost(x, n):\n",
        "    if isinstance(x, int):\n",
        "        return x + n\n",
        "    return [x[0], add_to_rightmost(x[1], n)]\n",
        "\n",
        "def magnitude(x):\n",
        "    if isinstance(x, int):\n",
        "        return x\n",
        "    return 3 * magnitude(x[0]) + 2 * magnitude(x[1])\n",
        "\n",
        "# Read input from file\n",
        "with open('input.txt', 'r') as f:\n",
        "    numbers = [ast.literal_eval(line.strip()) for line in f]\n",
        "\n",
        "# Add up all numbers\n",
        "result = numbers[0]\n",
        "for number in numbers[1:]:\n",
        "    result = add(result, number)\n",
        "\n",
        "# Calculate magnitude\n",
        "magnitude(result)"
      ]
    },
    {
      "cell_type": "code",
      "source": [
        "import ast\n",
        "import math\n",
        "from itertools import permutations\n",
        "\n",
        "def add(a, b):\n",
        "    return reduce([a, b])\n",
        "\n",
        "def reduce(x):\n",
        "    while True:\n",
        "        x, exploded, _, _ = explode(x)\n",
        "        if exploded:\n",
        "            continue\n",
        "        x, split = split_number(x)\n",
        "        if split:\n",
        "            continue\n",
        "        return x\n",
        "\n",
        "def explode(x, depth=0):\n",
        "    if isinstance(x, int):\n",
        "        return x, False, 0, 0\n",
        "    if depth == 4:\n",
        "        return 0, True, x[0], x[1]\n",
        "\n",
        "    left, exploded, left_remainder, right_remainder = explode(x[0], depth + 1)\n",
        "    if exploded:\n",
        "        return [left, add_to_leftmost(x[1], right_remainder)], True, left_remainder, 0\n",
        "\n",
        "    right, exploded, left_remainder, right_remainder = explode(x[1], depth + 1)\n",
        "    if exploded:\n",
        "        return [add_to_rightmost(x[0], left_remainder), right], True, 0, right_remainder\n",
        "\n",
        "    return [left, right], False, 0, 0\n",
        "\n",
        "def split_number(x):\n",
        "    if isinstance(x, int):\n",
        "        if x >= 10:\n",
        "            return [x // 2, math.ceil(x / 2)], True\n",
        "        return x, False\n",
        "\n",
        "    left, split = split_number(x[0])\n",
        "    if split:\n",
        "        return [left, x[1]], True\n",
        "\n",
        "    right, split = split_number(x[1])\n",
        "    return [left, right], split\n",
        "\n",
        "def add_to_leftmost(x, n):\n",
        "    if isinstance(x, int):\n",
        "        return x + n\n",
        "    return [add_to_leftmost(x[0], n), x[1]]\n",
        "\n",
        "def add_to_rightmost(x, n):\n",
        "    if isinstance(x, int):\n",
        "        return x + n\n",
        "    return [x[0], add_to_rightmost(x[1], n)]\n",
        "\n",
        "def magnitude(x):\n",
        "    if isinstance(x, int):\n",
        "        return x\n",
        "    return 3 * magnitude(x[0]) + 2 * magnitude(x[1])\n",
        "\n",
        "# Read input from file\n",
        "with open('input.txt', 'r') as f:\n",
        "    numbers = [ast.literal_eval(line.strip()) for line in f]\n",
        "\n",
        "# Find the largest magnitude of any sum of two different snailfish numbers\n",
        "max_magnitude = 0\n",
        "max_pair = None\n",
        "\n",
        "for a, b in permutations(numbers, 2):\n",
        "    result = add(a, b)\n",
        "    mag = magnitude(result)\n",
        "    if mag > max_magnitude:\n",
        "        max_magnitude = mag\n",
        "        max_pair = (a, b)\n",
        "\n",
        "max_magnitude"
      ],
      "metadata": {
        "colab": {
          "base_uri": "https://localhost:8080/"
        },
        "id": "spD_RvJRoi9R",
        "outputId": "b134b2c0-cc56-4557-caa0-defef7ab0f87"
      },
      "execution_count": 6,
      "outputs": [
        {
          "output_type": "execute_result",
          "data": {
            "text/plain": [
              "4775"
            ]
          },
          "metadata": {},
          "execution_count": 6
        }
      ]
    }
  ]
}