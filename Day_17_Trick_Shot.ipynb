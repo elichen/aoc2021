{
  "nbformat": 4,
  "nbformat_minor": 0,
  "metadata": {
    "colab": {
      "provenance": [],
      "authorship_tag": "ABX9TyM2jVxNJokJSgG+ollSc+8s",
      "include_colab_link": true
    },
    "kernelspec": {
      "name": "python3",
      "display_name": "Python 3"
    },
    "language_info": {
      "name": "python"
    }
  },
  "cells": [
    {
      "cell_type": "markdown",
      "metadata": {
        "id": "view-in-github",
        "colab_type": "text"
      },
      "source": [
        "<a href=\"https://colab.research.google.com/github/elichen/aoc2021/blob/main/Day_17_Trick_Shot.ipynb\" target=\"_parent\"><img src=\"https://colab.research.google.com/assets/colab-badge.svg\" alt=\"Open In Colab\"/></a>"
      ]
    },
    {
      "cell_type": "code",
      "execution_count": null,
      "metadata": {
        "id": "YHAEvfcgz5Qi"
      },
      "outputs": [],
      "source": [
        "input = \"target area: x=20..30, y=-10..-5\""
      ]
    },
    {
      "cell_type": "code",
      "source": [
        "input = \"target area: x=206..250, y=-105..-57\""
      ],
      "metadata": {
        "id": "MjTCW9wvwty9"
      },
      "execution_count": null,
      "outputs": []
    },
    {
      "cell_type": "code",
      "source": [
        "import re\n",
        "\n",
        "def parse_coordinates(string):\n",
        "    match = re.search(\"x=(-?\\d+)\\.\\.(-?\\d+), y=(-?\\d+)\\.\\.(-?\\d+)\", string)\n",
        "    if match:\n",
        "        x_start, x_end, y_start, y_end = match.groups()\n",
        "        return int(x_start), int(x_end), int(y_start), int(y_end)\n",
        "    else:\n",
        "        return None\n",
        "\n",
        "x_start, x_end, y_start, y_end = parse_coordinates(input)\n",
        "x_start, x_end, y_start, y_end"
      ],
      "metadata": {
        "colab": {
          "base_uri": "https://localhost:8080/"
        },
        "id": "pOrg3aCY0Axd",
        "outputId": "0446bdd3-01e6-4bc5-e865-5205e72f1d62"
      },
      "execution_count": null,
      "outputs": [
        {
          "output_type": "execute_result",
          "data": {
            "text/plain": [
              "(206, 250, -105, -57)"
            ]
          },
          "metadata": {},
          "execution_count": 76
        }
      ]
    },
    {
      "cell_type": "code",
      "source": [
        "def sim(dx,dy):\n",
        "  x,y = 0,0\n",
        "  max_y = 0\n",
        "  while True:\n",
        "    x += dx\n",
        "    y += dy\n",
        "    max_y = max(max_y,y)\n",
        "    if dx > 0:\n",
        "      dx -= 1\n",
        "    elif dx < 0:\n",
        "      dx += 1\n",
        "    dy -= 1\n",
        "    if x_start <= x and x <= x_end and y_start <= y and y <= y_end:\n",
        "      return max_y\n",
        "    if y < y_start:\n",
        "      return None"
      ],
      "metadata": {
        "id": "ViVWoGjT0enM"
      },
      "execution_count": null,
      "outputs": []
    },
    {
      "cell_type": "code",
      "source": [
        "import numpy as np\n",
        "np.set_printoptions(edgeitems=30, linewidth=100000,\n",
        "    formatter=dict(float=lambda x: \"%.10g\" % x))"
      ],
      "metadata": {
        "id": "UNkdVeS3wfK4"
      },
      "execution_count": null,
      "outputs": []
    },
    {
      "cell_type": "code",
      "source": [
        "rows, cols = 500,500\n",
        "m = np.zeros((rows,cols))\n",
        "for r in range(rows):\n",
        "  for c in range(cols):\n",
        "    # print(r,c-cols//2)\n",
        "    m[r,c] = sim(r,c-cols//2)"
      ],
      "metadata": {
        "id": "Zpbqxe3Hv4FQ"
      },
      "execution_count": null,
      "outputs": []
    },
    {
      "cell_type": "code",
      "source": [
        "max(m[~np.isnan(m)])"
      ],
      "metadata": {
        "colab": {
          "base_uri": "https://localhost:8080/"
        },
        "id": "ydj1unW6xz5h",
        "outputId": "12ae70b2-fb7c-452e-d09a-6ff230d8d1ba"
      },
      "execution_count": null,
      "outputs": [
        {
          "output_type": "execute_result",
          "data": {
            "text/plain": [
              "5460.0"
            ]
          },
          "metadata": {},
          "execution_count": 89
        }
      ]
    },
    {
      "cell_type": "code",
      "source": [
        "np.count_nonzero(~np.isnan(m))"
      ],
      "metadata": {
        "colab": {
          "base_uri": "https://localhost:8080/"
        },
        "id": "JIrj-rHywGNK",
        "outputId": "7afd270c-c6ef-40fa-88b5-ff0efdb581d6"
      },
      "execution_count": null,
      "outputs": [
        {
          "output_type": "execute_result",
          "data": {
            "text/plain": [
              "3618"
            ]
          },
          "metadata": {},
          "execution_count": 90
        }
      ]
    },
    {
      "cell_type": "code",
      "source": [],
      "metadata": {
        "id": "zqiOjv7DyY7x"
      },
      "execution_count": null,
      "outputs": []
    }
  ]
}