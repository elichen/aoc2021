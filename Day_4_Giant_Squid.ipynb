{
  "nbformat": 4,
  "nbformat_minor": 0,
  "metadata": {
    "colab": {
      "provenance": [],
      "authorship_tag": "ABX9TyMSVTImDAi7DjSRL4P9+nqy",
      "include_colab_link": true
    },
    "kernelspec": {
      "name": "python3",
      "display_name": "Python 3"
    },
    "language_info": {
      "name": "python"
    }
  },
  "cells": [
    {
      "cell_type": "markdown",
      "metadata": {
        "id": "view-in-github",
        "colab_type": "text"
      },
      "source": [
        "<a href=\"https://colab.research.google.com/github/elichen/aoc2021/blob/main/Day_4_Giant_Squid.ipynb\" target=\"_parent\"><img src=\"https://colab.research.google.com/assets/colab-badge.svg\" alt=\"Open In Colab\"/></a>"
      ]
    },
    {
      "cell_type": "code",
      "execution_count": null,
      "metadata": {
        "id": "4W4Xq-LSavG4"
      },
      "outputs": [],
      "source": [
        "input = '''7,4,9,5,11,17,23,2,0,14,21,24,10,16,13,6,15,25,12,22,18,20,8,19,3,26,1\n",
        "\n",
        "22 13 17 11  0\n",
        " 8  2 23  4 24\n",
        "21  9 14 16  7\n",
        " 6 10  3 18  5\n",
        " 1 12 20 15 19\n",
        "\n",
        " 3 15  0  2 22\n",
        " 9 18 13 17  5\n",
        "19  8  7 25 23\n",
        "20 11 10 24  4\n",
        "14 21 16 12  6\n",
        "\n",
        "14 21 17 24  4\n",
        "10 16 15  9 19\n",
        "18  8 23 26 20\n",
        "22 11 13  6  5\n",
        " 2  0 12  3  7'''\n",
        "input = input.split('\\n')"
      ]
    },
    {
      "cell_type": "code",
      "source": [
        "input = open(\"input.txt\").readlines()\n",
        "input = [x.rstrip() for x in input]"
      ],
      "metadata": {
        "id": "0vAOyHFmSqCi"
      },
      "execution_count": null,
      "outputs": []
    },
    {
      "cell_type": "code",
      "source": [
        "draws = input[0].split(',')\n",
        "input = input[2:]"
      ],
      "metadata": {
        "id": "G7A2nt-va0qq"
      },
      "execution_count": null,
      "outputs": []
    },
    {
      "cell_type": "code",
      "source": [
        "import re\n",
        "import numpy as np"
      ],
      "metadata": {
        "id": "QWyK_I8sdMTx"
      },
      "execution_count": null,
      "outputs": []
    },
    {
      "cell_type": "code",
      "source": [
        "boards = []\n",
        "while len(input):\n",
        "  b = []\n",
        "  for i in range(5):\n",
        "    b.append(input[i].split())\n",
        "  boards.append(np.array(b))\n",
        "  input = input[6:]"
      ],
      "metadata": {
        "id": "3bEoPYuEbd9y"
      },
      "execution_count": null,
      "outputs": []
    },
    {
      "cell_type": "code",
      "source": [
        "def check(match):\n",
        "  for x in np.sum(match,axis=0):\n",
        "    if x == 5: return True\n",
        "  for x in np.sum(match,axis=1):\n",
        "    if x == 5: return True\n",
        "  return False"
      ],
      "metadata": {
        "id": "kR_OXq2kNVsR"
      },
      "execution_count": null,
      "outputs": []
    },
    {
      "cell_type": "code",
      "source": [
        "matches"
      ],
      "metadata": {
        "colab": {
          "base_uri": "https://localhost:8080/"
        },
        "id": "uwQoFU8oTvrw",
        "outputId": "53fd969f-1de9-4fbc-d3cf-df195a8ef4be"
      },
      "execution_count": null,
      "outputs": [
        {
          "output_type": "execute_result",
          "data": {
            "text/plain": [
              "array([[[0., 1., 1., 1., 1.],\n",
              "        [0., 1., 1., 1., 1.],\n",
              "        [1., 1., 1., 1., 1.],\n",
              "        [0., 1., 0., 0., 1.],\n",
              "        [0., 0., 0., 0., 0.]],\n",
              "\n",
              "       [[0., 0., 1., 1., 0.],\n",
              "        [1., 0., 1., 1., 1.],\n",
              "        [0., 0., 1., 0., 1.],\n",
              "        [0., 1., 1., 1., 1.],\n",
              "        [1., 1., 1., 0., 0.]],\n",
              "\n",
              "       [[1., 1., 1., 1., 1.],\n",
              "        [1., 1., 0., 1., 0.],\n",
              "        [0., 0., 1., 0., 0.],\n",
              "        [0., 1., 0., 0., 1.],\n",
              "        [1., 1., 0., 0., 1.]]])"
            ]
          },
          "metadata": {},
          "execution_count": 42
        }
      ]
    },
    {
      "cell_type": "code",
      "source": [
        "matches = np.zeros((len(boards),5,5))\n",
        "def run():\n",
        "  for draw in draws:\n",
        "    for b,m in zip(boards,matches):\n",
        "      ml = np.argwhere(b == draw)\n",
        "      if len(ml):\n",
        "        m[tuple(ml[0])] = 1\n",
        "      if check(m):\n",
        "        return sum(list(map(int,b[tuple(np.argwhere(m == 0).T)]))) * int(draw)\n",
        "run()"
      ],
      "metadata": {
        "colab": {
          "base_uri": "https://localhost:8080/"
        },
        "id": "o5WTHxEpc8wG",
        "outputId": "2b10275a-6249-49b5-d176-baade13964b5"
      },
      "execution_count": null,
      "outputs": [
        {
          "output_type": "execute_result",
          "data": {
            "text/plain": [
              "11536"
            ]
          },
          "metadata": {},
          "execution_count": 43
        }
      ]
    },
    {
      "cell_type": "code",
      "source": [
        "matches = np.zeros((len(boards),5,5))\n",
        "def run():\n",
        "  wins = set()\n",
        "  for draw in draws:\n",
        "    for i in range(len(boards)):\n",
        "      b,m = boards[i], matches[i]\n",
        "      ml = np.argwhere(b == draw)\n",
        "      if len(ml):\n",
        "        m[tuple(ml[0])] = 1\n",
        "      if check(m):\n",
        "        wins.add(i)\n",
        "        if len(wins) == len(boards):\n",
        "          return sum(list(map(int,b[tuple(np.argwhere(m == 0).T)]))) * int(draw)\n",
        "run()"
      ],
      "metadata": {
        "colab": {
          "base_uri": "https://localhost:8080/"
        },
        "id": "a3jTFBH2S-Sm",
        "outputId": "b0d65e58-5a64-452c-d407-a94a2fda7992"
      },
      "execution_count": null,
      "outputs": [
        {
          "output_type": "execute_result",
          "data": {
            "text/plain": [
              "1284"
            ]
          },
          "metadata": {},
          "execution_count": 44
        }
      ]
    }
  ]
}