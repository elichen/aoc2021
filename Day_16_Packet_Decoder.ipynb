{
  "nbformat": 4,
  "nbformat_minor": 0,
  "metadata": {
    "colab": {
      "provenance": [],
      "authorship_tag": "ABX9TyNkLqf/kZ1Dv765mc6anO5g",
      "include_colab_link": true
    },
    "kernelspec": {
      "name": "python3",
      "display_name": "Python 3"
    },
    "language_info": {
      "name": "python"
    }
  },
  "cells": [
    {
      "cell_type": "markdown",
      "metadata": {
        "id": "view-in-github",
        "colab_type": "text"
      },
      "source": [
        "<a href=\"https://colab.research.google.com/github/elichen/aoc2021/blob/main/Day_16_Packet_Decoder.ipynb\" target=\"_parent\"><img src=\"https://colab.research.google.com/assets/colab-badge.svg\" alt=\"Open In Colab\"/></a>"
      ]
    },
    {
      "cell_type": "code",
      "execution_count": null,
      "metadata": {
        "id": "1p3WUU03znW0"
      },
      "outputs": [],
      "source": [
        "input = \"E20D7880532D4E551A5791BD7B8C964C1548CB3EC1FCA41CC00C6D50024400C202A65C00C20257C008AF70024C00810039C00C3002D400A300258040F200D6040093002CC0084003FA52DB8134DE620EC01DECC4C8A5B55E204B6610189F87BDD3B30052C01493E2DC9F1724B3C1F8DC801E249E8D66C564715589BCCF08B23CA1A00039D35FD6AC5727801500260B8801F253D467BFF99C40182004223B4458D2600E42C82D07CC01D83F0521C180273D5C8EE802B29F7C9DA1DCACD1D802469FF57558D6A65372113005E4DB25CF8C0209B329D0D996C92605009A637D299AEF06622CE4F1D7560141A52BC6D91C73CD732153BF862F39BA49E6BA8C438C010E009AA6B75EF7EE53BBAC244933A48600B025AD7C074FEB901599A49808008398142013426BD06FA00D540010C87F0CA29880370E21D42294A6E3BCF0A080324A006824E3FCBE4A782E7F356A5006A587A56D3699CF2F4FD6DF60862600BF802F25B4E96BDD26049802333EB7DDB401795FC36BD26A860094E176006A0200FC4B8790B4001098A50A61748D2DEDDF4C6200F4B6FE1F1665BED44015ACC055802B23BD87C8EF61E600B4D6BAD5800AA4E5C8672E4E401D0CC89F802D298F6A317894C7B518BE4772013C2803710004261EC318B800084C7288509E56FD6430052482340128FB37286F9194EE3D31FA43BACAF2802B12A7B83E4017E4E755E801A2942A9FCE757093005A6D1F803561007A17C3B8EE0008442085D1E8C0109E3BC00CDE4BFED737A90DC97FDAE6F521B97B4619BE17CC01D94489E1C9623000F924A7C8C77EA61E6679F7398159DE7D84C015A0040670765D5A52D060200C92801CA8A531194E98DA3CCF8C8C017C00416703665A2141008CF34EF8019A080390962841C1007217C5587E60164F81C9A5CE0E4AA549223002E32BDCEA36B2E100A160008747D8B705C001098DB13A388803F1AE304600\""
      ]
    },
    {
      "cell_type": "code",
      "source": [
        "import math"
      ],
      "metadata": {
        "id": "nx_4YbIbSD4i"
      },
      "execution_count": null,
      "outputs": []
    },
    {
      "cell_type": "code",
      "source": [
        "def hex_2_bits(s):\n",
        "  bits = bin(int(s,16))[2:]\n",
        "  return bits.zfill(math.ceil(len(bits)/4)*4)"
      ],
      "metadata": {
        "id": "hotR7vhfztwW"
      },
      "execution_count": null,
      "outputs": []
    },
    {
      "cell_type": "code",
      "source": [
        "def parse_packet(s):\n",
        "  ver = int(s[:3],2)\n",
        "  id = int(s[3:6],2)\n",
        "  result = {\"ver\":ver,\n",
        "   \"id\":id\n",
        "  }\n",
        "  i = 6\n",
        "  if id == 4:\n",
        "    accum = \"\"\n",
        "    while True:\n",
        "      accum += s[i+1:i+5]\n",
        "      if s[i] == '0':\n",
        "        i += 5\n",
        "        break\n",
        "      i += 5\n",
        "    result[\"value\"] = int(accum,2)\n",
        "  else:\n",
        "    result['subp'] = []\n",
        "    if s[i] == \"0\":\n",
        "      l = int(s[i+1:i+16],2)\n",
        "      i += 16\n",
        "      end = i+l\n",
        "      while i < end:\n",
        "        subp, bits = parse_packet(s[i:])\n",
        "        result['subp'].append(subp)\n",
        "        i += bits\n",
        "    else:\n",
        "      l = int(s[i+1:i+12],2)\n",
        "      i += 12\n",
        "      for _ in range(l):\n",
        "        subp, bits = parse_packet(s[i:])\n",
        "        result['subp'].append(subp)\n",
        "        i += bits\n",
        "  return result, i"
      ],
      "metadata": {
        "id": "c9mZU95Hz9nk"
      },
      "execution_count": null,
      "outputs": []
    },
    {
      "cell_type": "code",
      "source": [
        "def find_values(d, key):\n",
        "    values = []\n",
        "    for k, v in d.items():\n",
        "        if k == key:\n",
        "            values.append(v)\n",
        "        elif isinstance(v, dict):\n",
        "            values.extend(find_values(v, key))\n",
        "        elif isinstance(v, list):\n",
        "            for item in v:\n",
        "                if isinstance(item, dict):\n",
        "                    values.extend(find_values(item, key))\n",
        "    return values"
      ],
      "metadata": {
        "id": "OXL_3i_uVkum"
      },
      "execution_count": null,
      "outputs": []
    },
    {
      "cell_type": "code",
      "source": [
        "sum(find_values(parse_packet(hex_2_bits(input))[0],\"ver\"))"
      ],
      "metadata": {
        "colab": {
          "base_uri": "https://localhost:8080/"
        },
        "id": "vRL5wL96XZ-Z",
        "outputId": "b8183a34-1f08-49d3-c44b-a834c94a3220"
      },
      "execution_count": null,
      "outputs": [
        {
          "output_type": "execute_result",
          "data": {
            "text/plain": [
              "979"
            ]
          },
          "metadata": {},
          "execution_count": 151
        }
      ]
    },
    {
      "cell_type": "code",
      "source": [
        "def calc(p):\n",
        "  if p['id'] == 0:\n",
        "    return sum([calc(x) for x in p['subp']])\n",
        "  if p['id'] == 1:\n",
        "    return math.prod([calc(x) for x in p['subp']])\n",
        "  if p['id'] == 2:\n",
        "    return min([calc(x) for x in p['subp']])\n",
        "  if p['id'] == 3:\n",
        "    return max([calc(x) for x in p['subp']])\n",
        "  if p['id'] == 4:\n",
        "    return p['value']\n",
        "  if p['id'] == 5:\n",
        "    return calc(p['subp'][0]) > calc(p['subp'][1])\n",
        "  if p['id'] == 6:\n",
        "    return calc(p['subp'][0]) < calc(p['subp'][1])\n",
        "  if p['id'] == 7:\n",
        "    return calc(p['subp'][0]) == calc(p['subp'][1])"
      ],
      "metadata": {
        "id": "P4stL9YgZGTI"
      },
      "execution_count": null,
      "outputs": []
    },
    {
      "cell_type": "code",
      "source": [
        "calc(parse_packet(hex_2_bits(input))[0])"
      ],
      "metadata": {
        "colab": {
          "base_uri": "https://localhost:8080/"
        },
        "id": "BZpYy6kDgfAD",
        "outputId": "06ede58f-10f5-49db-de58-31c1d31f350b"
      },
      "execution_count": null,
      "outputs": [
        {
          "output_type": "execute_result",
          "data": {
            "text/plain": [
              "277110354175"
            ]
          },
          "metadata": {},
          "execution_count": 153
        }
      ]
    }
  ]
}