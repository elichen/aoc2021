{
  "nbformat": 4,
  "nbformat_minor": 0,
  "metadata": {
    "colab": {
      "provenance": [],
      "authorship_tag": "ABX9TyPq6FUzLEJgifl3jCYxuFg7",
      "include_colab_link": true
    },
    "kernelspec": {
      "name": "python3",
      "display_name": "Python 3"
    },
    "language_info": {
      "name": "python"
    }
  },
  "cells": [
    {
      "cell_type": "markdown",
      "metadata": {
        "id": "view-in-github",
        "colab_type": "text"
      },
      "source": [
        "<a href=\"https://colab.research.google.com/github/elichen/aoc2021/blob/main/Day_9_Smoke_Basin.ipynb\" target=\"_parent\"><img src=\"https://colab.research.google.com/assets/colab-badge.svg\" alt=\"Open In Colab\"/></a>"
      ]
    },
    {
      "cell_type": "code",
      "execution_count": null,
      "metadata": {
        "id": "W9xFXsoKFkcn"
      },
      "outputs": [],
      "source": [
        "input = '''2199943210\n",
        "3987894921\n",
        "9856789892\n",
        "8767896789\n",
        "9899965678'''\n",
        "input = input.split('\\n')"
      ]
    },
    {
      "cell_type": "code",
      "source": [
        "input = open(\"input.txt\").readlines()\n",
        "input = [x.rstrip() for x in input]"
      ],
      "metadata": {
        "id": "wlJHkfW4IBxj"
      },
      "execution_count": null,
      "outputs": []
    },
    {
      "cell_type": "code",
      "source": [
        "import numpy as np"
      ],
      "metadata": {
        "id": "Hhfmz4b2FqDo"
      },
      "execution_count": null,
      "outputs": []
    },
    {
      "cell_type": "code",
      "source": [
        "rows = len(input)\n",
        "cols = len(input[0])\n",
        "m = np.zeros((rows,cols))\n",
        "for row,line in enumerate(input):\n",
        "  for col,c in enumerate(line):\n",
        "    m[row,col] = int(c)"
      ],
      "metadata": {
        "id": "9tj713G7Fu4j"
      },
      "execution_count": null,
      "outputs": []
    },
    {
      "cell_type": "code",
      "source": [
        "result = 0\n",
        "lows = []\n",
        "for r in range(rows):\n",
        "  for c in range(cols):\n",
        "    if ((r == 0 or m[r,c] < m[r-1,c]) and\n",
        "        (r == rows-1 or m[r,c] < m[r+1,c]) and\n",
        "        (c == 0 or m[r,c] < m[r,c-1]) and\n",
        "        (c == cols-1 or m[r,c] < m[r,c+1])):\n",
        "      result += m[r,c]+1\n",
        "      lows.append({(r,c)})\n",
        "result"
      ],
      "metadata": {
        "colab": {
          "base_uri": "https://localhost:8080/"
        },
        "id": "1WKvEioSGOV8",
        "outputId": "d2f82e5a-4ec2-4113-aad1-37ce665181e1"
      },
      "execution_count": null,
      "outputs": [
        {
          "output_type": "execute_result",
          "data": {
            "text/plain": [
              "566.0"
            ]
          },
          "metadata": {},
          "execution_count": 57
        }
      ]
    },
    {
      "cell_type": "code",
      "source": [
        "from functools import reduce # Valid in Python 2.6+, required in Python 3\n",
        "import operator"
      ],
      "metadata": {
        "id": "oZHFE0Viivbs"
      },
      "execution_count": null,
      "outputs": []
    },
    {
      "cell_type": "code",
      "source": [
        "for low in lows:\n",
        "  next = low.copy()\n",
        "  while len(next):\n",
        "    n = next.pop()\n",
        "    if n[0] > 0:\n",
        "      l = (n[0]-1,n[1])\n",
        "      if m[l] > m[n] and m[l] != 9 and l not in low: low.add(l); next.add(l)\n",
        "    if n[0] < rows-1:\n",
        "      l = (n[0]+1,n[1])\n",
        "      if m[l] > m[n] and m[l] != 9 and l not in low: low.add(l); next.add(l)\n",
        "    if n[1] > 0:\n",
        "      l = (n[0],n[1]-1)\n",
        "      if m[l] > m[n] and m[l] != 9 and l not in low: low.add(l); next.add(l)\n",
        "    if n[1] < cols-1:\n",
        "      l = (n[0],n[1]+1)\n",
        "      if m[l] > m[n] and m[l] != 9 and l not in low: low.add(l); next.add(l)\n",
        "reduce(operator.mul, sorted([len(x) for x in lows])[-3:], 1)"
      ],
      "metadata": {
        "colab": {
          "base_uri": "https://localhost:8080/"
        },
        "id": "gcHff9vzNLKc",
        "outputId": "2de86581-cd5d-497c-8e41-0655af2703da"
      },
      "execution_count": null,
      "outputs": [
        {
          "output_type": "execute_result",
          "data": {
            "text/plain": [
              "891684"
            ]
          },
          "metadata": {},
          "execution_count": 59
        }
      ]
    },
    {
      "cell_type": "code",
      "source": [],
      "metadata": {
        "id": "_LuUbIv4jWhf"
      },
      "execution_count": null,
      "outputs": []
    }
  ]
}