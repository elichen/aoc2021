{
  "cells": [
    {
      "cell_type": "markdown",
      "metadata": {
        "id": "view-in-github",
        "colab_type": "text"
      },
      "source": [
        "<a href=\"https://colab.research.google.com/github/elichen/aoc2021/blob/main/Day_23_Amphipod.ipynb\" target=\"_parent\"><img src=\"https://colab.research.google.com/assets/colab-badge.svg\" alt=\"Open In Colab\"/></a>"
      ]
    },
    {
      "cell_type": "code",
      "execution_count": null,
      "metadata": {
        "id": "YWSRx77-4cbQ"
      },
      "outputs": [],
      "source": [
        "input = '''#############\n",
        "#...........#\n",
        "###B#C#B#D###\n",
        "  #A#D#C#A#\n",
        "  #########'''.split('\\n')"
      ]
    },
    {
      "cell_type": "code",
      "execution_count": null,
      "metadata": {
        "id": "hCtJZxYXVt1m"
      },
      "outputs": [],
      "source": [
        "input = '''#############\n",
        "#...........#\n",
        "###B#C#C#B###\n",
        "  #D#D#A#A#\n",
        "  #########'''.split('\\n')"
      ]
    },
    {
      "cell_type": "code",
      "execution_count": null,
      "metadata": {
        "colab": {
          "base_uri": "https://localhost:8080/"
        },
        "id": "1OVrg4pI4qnc",
        "outputId": "8f3afe9f-09c3-4609-c391-34159fc59c50"
      },
      "outputs": [
        {
          "output_type": "execute_result",
          "data": {
            "text/plain": [
              "{(((0, 1), (3, 2), (2, 1), (0, 3)),\n",
              "  (None, None, None, None, None, None, None),\n",
              "  0)}"
            ]
          },
          "metadata": {},
          "execution_count": 16
        }
      ],
      "source": [
        "def reset():\n",
        "  buckets = [[input[3][3],input[2][3]],\n",
        "            [input[3][5],input[2][5]],\n",
        "            [input[3][7],input[2][7]],\n",
        "            [input[3][9],input[2][9]]]\n",
        "  buckets = tuple([tuple(map(lambda x: ord(x)-ord('A'),x)) for x in buckets])\n",
        "  hallway = tuple([None]*7)\n",
        "  return set([(buckets, hallway, 0)])\n",
        "states = reset()\n",
        "states"
      ]
    },
    {
      "cell_type": "code",
      "execution_count": null,
      "metadata": {
        "id": "ot61hWyWZvWG"
      },
      "outputs": [],
      "source": [
        "def calc_energy(hallway_i, bucket, pos, type):\n",
        "  # print(\"calc_energy\", hallway_i, bucket, pos, type)\n",
        "  h_d = [0,1,3,5,7,9,10]\n",
        "  b_d = [2,4,6,8]\n",
        "  energies = [1,10,100,1000]\n",
        "  return (abs(b_d[bucket]-h_d[hallway_i])+(2-pos))*energies[type]\n",
        "\n",
        "def move_to_hallway(bucket, pos, buckets, hallway, score):\n",
        "  # print(\"move_to_hallway\",bucket, pos, buckets, hallway, score)\n",
        "  new_states = set()\n",
        "  def new_path(i):\n",
        "    new_buckets = list(buckets)\n",
        "    new_hallway = list(hallway)\n",
        "    new_hallway[i] = buckets[bucket][pos]\n",
        "    new_buckets[bucket] = tuple(x if index != pos else None for index, x in enumerate(new_buckets[bucket]))\n",
        "    new_score = score + calc_energy(i, bucket, pos, buckets[bucket][pos])\n",
        "    return (tuple(new_buckets), tuple(new_hallway), new_score)\n",
        "  for i in range(bucket+1,-1,-1):\n",
        "    if hallway[i] is not None:\n",
        "      break\n",
        "    new_states.add(new_path(i))\n",
        "  for i in range(bucket+2,7,1):\n",
        "    if hallway[i] is not None:\n",
        "      break\n",
        "    new_states.add(new_path(i))\n",
        "  return new_states\n",
        "\n",
        "def move_to_home(i, a, buckets, hallway, score):\n",
        "  # print(\"move_to_home\", i, a, buckets, hallway, score)\n",
        "  b = buckets[a]\n",
        "  def new_path(pos):\n",
        "    new_buckets = list(buckets)\n",
        "    new_hallway = list(hallway)\n",
        "    new_hallway[i] = None\n",
        "    new_buckets[a] = tuple(x if index != pos else a for index, x in enumerate(new_buckets[a]))\n",
        "    new_score = score + calc_energy(i, a, pos, a)\n",
        "    return (tuple(new_buckets), tuple(new_hallway), new_score)\n",
        "  if any(x is not None for x in hallway[min(i+1,a+2):max(i,a+2)]):\n",
        "    return set()\n",
        "  if b[0] is None:\n",
        "    return {new_path(0)}\n",
        "  elif b[0] == a and b[1] is None:\n",
        "    return {new_path(1)}\n",
        "  else:\n",
        "    return set()\n",
        "\n",
        "def check_done(buckets, hallway):\n",
        "  # print(\"check_done\", buckets, hallway)\n",
        "  for i,bucket in enumerate(buckets):\n",
        "    if bucket[0] != i or bucket[1] != i: return False\n",
        "  return all(x is None for x in hallway)"
      ]
    },
    {
      "cell_type": "code",
      "execution_count": null,
      "metadata": {
        "colab": {
          "base_uri": "https://localhost:8080/"
        },
        "id": "rOcTUVaOD-T1",
        "outputId": "f6b16868-6ec3-465b-f1e8-c20698349d9f"
      },
      "outputs": [
        {
          "output_type": "stream",
          "name": "stdout",
          "text": [
            "28\n",
            "307\n",
            "1670\n",
            "4849\n",
            "8422\n",
            "11175\n",
            "11423\n",
            "10088\n",
            "6899\n",
            "3491\n",
            "760\n",
            "63\n",
            "0\n",
            "12521\n"
          ]
        }
      ],
      "source": [
        "states = reset()\n",
        "old_states = {}\n",
        "min_energy = 10**10\n",
        "break_c = 0\n",
        "\n",
        "while len(states):\n",
        "  new_states = set()\n",
        "  for buckets, hallway, score in states:\n",
        "    if (buckets, hallway) in old_states and score >= old_states[(buckets, hallway)]:\n",
        "      continue\n",
        "    else:\n",
        "      old_states[(buckets, hallway)] = score\n",
        "    if check_done(buckets, hallway):\n",
        "      # print(\"done!\", buckets, hallway, score)\n",
        "      min_energy = min(min_energy,score)\n",
        "      continue\n",
        "    for i,bucket in enumerate(buckets):\n",
        "      if bucket[0] is not None:\n",
        "        if bucket[0] == i:\n",
        "          if bucket[1] is not None and bucket[1] != i:\n",
        "            new_states.update(move_to_hallway(i, 1, buckets, hallway, score))\n",
        "        else:\n",
        "          if bucket[1] is not None:\n",
        "            new_states.update(move_to_hallway(i, 1, buckets, hallway, score))\n",
        "          else:\n",
        "            new_states.update(move_to_hallway(i, 0, buckets, hallway, score))\n",
        "    for i,a in enumerate(hallway):\n",
        "      if a is not None:\n",
        "        new_states.update(move_to_home(i, a, buckets, hallway, score))\n",
        "  states = new_states\n",
        "  print(len(states))\n",
        "print(min_energy)"
      ]
    },
    {
      "cell_type": "code",
      "execution_count": null,
      "metadata": {
        "colab": {
          "base_uri": "https://localhost:8080/"
        },
        "id": "ZSEMChRwVjFi",
        "outputId": "4e8efbef-6c2c-42dd-e219-68b76f1d2cf1"
      },
      "outputs": [
        {
          "output_type": "execute_result",
          "data": {
            "text/plain": [
              "{(((0, 3, 3, 1), (3, 1, 2, 2), (2, 0, 1, 1), (0, 2, 0, 3)),\n",
              "  (None, None, None, None, None, None, None),\n",
              "  0)}"
            ]
          },
          "metadata": {},
          "execution_count": 19
        }
      ],
      "source": [
        "def reset():\n",
        "  buckets = [[input[3][3],'D','D',input[2][3]],\n",
        "            [input[3][5],'B','C',input[2][5]],\n",
        "            [input[3][7],'A','B',input[2][7]],\n",
        "            [input[3][9],'C','A',input[2][9]]]\n",
        "  buckets = tuple([tuple(map(lambda x: ord(x)-ord('A'),x)) for x in buckets])\n",
        "  hallway = tuple([None]*7)\n",
        "  return set([(buckets, hallway, 0)])\n",
        "states = reset()\n",
        "states"
      ]
    },
    {
      "cell_type": "code",
      "execution_count": null,
      "metadata": {
        "id": "Py67xL_3WehI"
      },
      "outputs": [],
      "source": [
        "def calc_energy(hallway_i, bucket, pos, type):\n",
        "  # print(\"calc_energy\", hallway_i, bucket, pos, type)\n",
        "  h_d = [0,1,3,5,7,9,10]\n",
        "  b_d = [2,4,6,8]\n",
        "  energies = [1,10,100,1000]\n",
        "  return (abs(b_d[bucket]-h_d[hallway_i])+(4-pos))*energies[type]\n",
        "\n",
        "def move_to_hallway(bucket, pos, buckets, hallway, score):\n",
        "  # print(\"move_to_hallway\",bucket, pos, buckets, hallway, score)\n",
        "  new_states = set()\n",
        "  def new_path(i):\n",
        "    new_buckets = list(buckets)\n",
        "    new_hallway = list(hallway)\n",
        "    new_hallway[i] = buckets[bucket][pos]\n",
        "    new_buckets[bucket] = tuple(x if index != pos else None for index, x in enumerate(new_buckets[bucket]))\n",
        "    new_score = score + calc_energy(i, bucket, pos, buckets[bucket][pos])\n",
        "    return (tuple(new_buckets), tuple(new_hallway), new_score)\n",
        "  for i in range(bucket+1,-1,-1):\n",
        "    if hallway[i] is not None:\n",
        "      break\n",
        "    new_states.add(new_path(i))\n",
        "  for i in range(bucket+2,7,1):\n",
        "    if hallway[i] is not None:\n",
        "      break\n",
        "    new_states.add(new_path(i))\n",
        "  return new_states\n",
        "\n",
        "def move_to_home(i, a, buckets, hallway, score):\n",
        "  # print(\"move_to_home\", i, a, buckets, hallway, score)\n",
        "  b = buckets[a]\n",
        "  def new_path(pos):\n",
        "    new_buckets = list(buckets)\n",
        "    new_hallway = list(hallway)\n",
        "    new_hallway[i] = None\n",
        "    new_buckets[a] = tuple(x if index != pos else a for index, x in enumerate(new_buckets[a]))\n",
        "    new_score = score + calc_energy(i, a, pos, a)\n",
        "    return (tuple(new_buckets), tuple(new_hallway), new_score)\n",
        "  if any(x is not None for x in hallway[min(i+1,a+2):max(i,a+2)]):\n",
        "    return set()\n",
        "  if b[0] is None:\n",
        "    return {new_path(0)}\n",
        "  elif b[0] == a and b[1] == None and b[2] == None and b[3] == None:\n",
        "    return {new_path(1)}\n",
        "  elif b[0] == a and b[1] == a and b[2] == None and b[3] == None:\n",
        "    return {new_path(2)}\n",
        "  elif b[0] == a and b[1] == a and b[2] == a and b[3] == None:\n",
        "    return {new_path(3)}\n",
        "  else:\n",
        "    return set()\n",
        "\n",
        "def check_done(buckets, hallway):\n",
        "  # print(\"check_done\", buckets, hallway)\n",
        "  for i,bucket in enumerate(buckets):\n",
        "    if any(x is None or x != i for x in bucket): return False\n",
        "  return all(x is None for x in hallway)"
      ]
    },
    {
      "cell_type": "code",
      "execution_count": null,
      "metadata": {
        "colab": {
          "base_uri": "https://localhost:8080/"
        },
        "id": "-ZihdgzyX90A",
        "outputId": "c3d351d1-976e-450b-b709-580d587a8219"
      },
      "outputs": [
        {
          "output_type": "stream",
          "name": "stdout",
          "text": [
            "28\n",
            "355\n",
            "2535\n",
            "10246\n",
            "24080\n",
            "30857\n",
            "19581\n",
            "9304\n",
            "11926\n",
            "11136\n",
            "9947\n",
            "7095\n",
            "5589\n",
            "3735\n",
            "2821\n",
            "2328\n",
            "2241\n",
            "1916\n",
            "1451\n",
            "945\n",
            "449\n",
            "235\n",
            "130\n",
            "111\n",
            "60\n",
            "70\n",
            "75\n",
            "93\n",
            "118\n",
            "211\n",
            "471\n",
            "1298\n",
            "done! ((0, 0, 0, 0), (1, 1, 1, 1), (2, 2, 2, 2), (3, 3, 3, 3)) (None, None, None, None, None, None, None) 50245\n",
            "3524\n",
            "8293\n",
            "16544\n",
            "28481\n",
            "40252\n",
            "45788\n",
            "35197\n",
            "14754\n",
            "0\n",
            "50245\n"
          ]
        }
      ],
      "source": [
        "states = reset()\n",
        "old_states = {}\n",
        "min_energy = 10**10\n",
        "break_c = 0\n",
        "\n",
        "while len(states):\n",
        "  new_states = set()\n",
        "  for buckets, hallway, score in states:\n",
        "    if (buckets, hallway) in old_states and score >= old_states[(buckets, hallway)]:\n",
        "      continue\n",
        "    else:\n",
        "      old_states[(buckets, hallway)] = score\n",
        "    if check_done(buckets, hallway):\n",
        "      print(\"done!\", buckets, hallway, score)\n",
        "      min_energy = min(min_energy,score)\n",
        "      continue\n",
        "    for a,b in enumerate(buckets):\n",
        "      pos = 0\n",
        "      while pos < 4 and b[pos] is not None and b[pos] == a:\n",
        "        pos += 1\n",
        "      while pos < 4 and b[pos] != None:\n",
        "        pos += 1\n",
        "      if pos > 0:\n",
        "        new_states.update(move_to_hallway(a, pos-1, buckets, hallway, score))\n",
        "    for i,a in enumerate(hallway):\n",
        "      if a is not None:\n",
        "        new_states.update(move_to_home(i, a, buckets, hallway, score))\n",
        "  states = new_states\n",
        "  print(len(states))\n",
        "print(min_energy)"
      ]
    },
    {
      "cell_type": "code",
      "source": [],
      "metadata": {
        "id": "QpZzJdEHthHf"
      },
      "execution_count": null,
      "outputs": []
    }
  ],
  "metadata": {
    "colab": {
      "provenance": [],
      "authorship_tag": "ABX9TyMoVfuFYWj0xfE5NtV+PNh3",
      "include_colab_link": true
    },
    "kernelspec": {
      "display_name": "Python 3",
      "name": "python3"
    },
    "language_info": {
      "name": "python"
    }
  },
  "nbformat": 4,
  "nbformat_minor": 0
}