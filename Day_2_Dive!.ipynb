{
  "nbformat": 4,
  "nbformat_minor": 0,
  "metadata": {
    "colab": {
      "provenance": [],
      "authorship_tag": "ABX9TyOS49gFze47qHWFxTNU9i0G",
      "include_colab_link": true
    },
    "kernelspec": {
      "name": "python3",
      "display_name": "Python 3"
    },
    "language_info": {
      "name": "python"
    }
  },
  "cells": [
    {
      "cell_type": "markdown",
      "metadata": {
        "id": "view-in-github",
        "colab_type": "text"
      },
      "source": [
        "<a href=\"https://colab.research.google.com/github/elichen/aoc2021/blob/main/Day_2_Dive!.ipynb\" target=\"_parent\"><img src=\"https://colab.research.google.com/assets/colab-badge.svg\" alt=\"Open In Colab\"/></a>"
      ]
    },
    {
      "cell_type": "code",
      "execution_count": null,
      "metadata": {
        "id": "cmTJyiZdN7RC"
      },
      "outputs": [],
      "source": [
        "input = '''forward 5\n",
        "down 5\n",
        "forward 8\n",
        "up 3\n",
        "down 8\n",
        "forward 2'''\n",
        "input = input.split('\\n')"
      ]
    },
    {
      "cell_type": "code",
      "source": [
        "input = open(\"input.txt\").readlines()\n",
        "input = [x.rstrip() for x in input]"
      ],
      "metadata": {
        "id": "a6E4DYheSa62"
      },
      "execution_count": null,
      "outputs": []
    },
    {
      "cell_type": "code",
      "source": [
        "pos = 0\n",
        "dep = 0\n",
        "for line in input:\n",
        "  op, n = line.split(' ')\n",
        "  n = int(n)\n",
        "  if op == \"forward\":\n",
        "    pos += n\n",
        "  elif op == \"down\":\n",
        "    dep += n\n",
        "  elif op == \"up\":\n",
        "    dep -= n\n",
        "pos*dep"
      ],
      "metadata": {
        "colab": {
          "base_uri": "https://localhost:8080/"
        },
        "id": "AdmIdghsOAvq",
        "outputId": "2c378682-aea4-4e90-e00c-c0845d41ccca"
      },
      "execution_count": null,
      "outputs": [
        {
          "output_type": "execute_result",
          "data": {
            "text/plain": [
              "2272262"
            ]
          },
          "metadata": {},
          "execution_count": 17
        }
      ]
    },
    {
      "cell_type": "code",
      "source": [
        "pos = 0\n",
        "dep = 0\n",
        "aim = 0\n",
        "for line in input:\n",
        "  op, n = line.split(' ')\n",
        "  n = int(n)\n",
        "  if op == \"forward\":\n",
        "    pos += n\n",
        "    dep += aim*n\n",
        "  elif op == \"down\":\n",
        "    aim += n\n",
        "  elif op == \"up\":\n",
        "    aim -= n\n",
        "pos*dep"
      ],
      "metadata": {
        "colab": {
          "base_uri": "https://localhost:8080/"
        },
        "id": "tLWfp9XKS-D8",
        "outputId": "3fd0162c-a5b4-4353-b068-e45fc896015c"
      },
      "execution_count": null,
      "outputs": [
        {
          "output_type": "execute_result",
          "data": {
            "text/plain": [
              "2134882034"
            ]
          },
          "metadata": {},
          "execution_count": 18
        }
      ]
    }
  ]
}