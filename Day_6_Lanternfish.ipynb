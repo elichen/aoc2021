{
  "nbformat": 4,
  "nbformat_minor": 0,
  "metadata": {
    "colab": {
      "provenance": [],
      "authorship_tag": "ABX9TyP2wc6GuLSG2WR7LSR4uX/g",
      "include_colab_link": true
    },
    "kernelspec": {
      "name": "python3",
      "display_name": "Python 3"
    },
    "language_info": {
      "name": "python"
    }
  },
  "cells": [
    {
      "cell_type": "markdown",
      "metadata": {
        "id": "view-in-github",
        "colab_type": "text"
      },
      "source": [
        "<a href=\"https://colab.research.google.com/github/elichen/aoc2021/blob/main/Day_6_Lanternfish.ipynb\" target=\"_parent\"><img src=\"https://colab.research.google.com/assets/colab-badge.svg\" alt=\"Open In Colab\"/></a>"
      ]
    },
    {
      "cell_type": "code",
      "execution_count": null,
      "metadata": {
        "id": "jat1jvhM7cmQ"
      },
      "outputs": [],
      "source": [
        "input = '3,4,3,1,2'"
      ]
    },
    {
      "cell_type": "code",
      "source": [
        "input = open(\"input.txt\").read()\n",
        "input = input.rstrip()"
      ],
      "metadata": {
        "id": "DuPnlFL3_lNw"
      },
      "execution_count": null,
      "outputs": []
    },
    {
      "cell_type": "code",
      "source": [
        "ages = list(map(int,input.split(',')))"
      ],
      "metadata": {
        "id": "mENTrDG27hem"
      },
      "execution_count": null,
      "outputs": []
    },
    {
      "cell_type": "code",
      "source": [
        "def run(days):\n",
        "  counts = [0 for _ in range(9)]\n",
        "\n",
        "  for a in ages:\n",
        "    counts[a] += 1\n",
        "  print(counts)\n",
        "\n",
        "  for t in range(days):\n",
        "    new_counts = [0 for _ in range(9)]\n",
        "    new_counts[8] = counts[0]\n",
        "    new_counts[6] = counts[0]\n",
        "    for i in range(1,9):\n",
        "      new_counts[i-1] += counts[i]\n",
        "    counts = new_counts\n",
        "    # print(counts)\n",
        "  return sum(counts)\n",
        "run(80)"
      ],
      "metadata": {
        "colab": {
          "base_uri": "https://localhost:8080/"
        },
        "id": "346xSkCYF1TT",
        "outputId": "d43e0af1-6cf9-464e-a940-10219e3c0067"
      },
      "execution_count": null,
      "outputs": [
        {
          "output_type": "stream",
          "name": "stdout",
          "text": [
            "[0, 106, 54, 42, 59, 39, 0, 0, 0]\n"
          ]
        },
        {
          "output_type": "execute_result",
          "data": {
            "text/plain": [
              "359344"
            ]
          },
          "metadata": {},
          "execution_count": 44
        }
      ]
    },
    {
      "cell_type": "code",
      "source": [
        "run(256)"
      ],
      "metadata": {
        "colab": {
          "base_uri": "https://localhost:8080/"
        },
        "id": "lJYCamKUABWf",
        "outputId": "7c005432-44d7-412a-9172-ed761a6a4eb7"
      },
      "execution_count": null,
      "outputs": [
        {
          "output_type": "stream",
          "name": "stdout",
          "text": [
            "[0, 106, 54, 42, 59, 39, 0, 0, 0]\n"
          ]
        },
        {
          "output_type": "execute_result",
          "data": {
            "text/plain": [
              "1629570219571"
            ]
          },
          "metadata": {},
          "execution_count": 45
        }
      ]
    }
  ]
}