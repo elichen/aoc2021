{
  "nbformat": 4,
  "nbformat_minor": 0,
  "metadata": {
    "colab": {
      "provenance": [],
      "authorship_tag": "ABX9TyML7PgZDozawnccR2+TMJJg",
      "include_colab_link": true
    },
    "kernelspec": {
      "name": "python3",
      "display_name": "Python 3"
    },
    "language_info": {
      "name": "python"
    }
  },
  "cells": [
    {
      "cell_type": "markdown",
      "metadata": {
        "id": "view-in-github",
        "colab_type": "text"
      },
      "source": [
        "<a href=\"https://colab.research.google.com/github/elichen/aoc2021/blob/main/Day_5_Hydrothermal_Venture.ipynb\" target=\"_parent\"><img src=\"https://colab.research.google.com/assets/colab-badge.svg\" alt=\"Open In Colab\"/></a>"
      ]
    },
    {
      "cell_type": "code",
      "execution_count": null,
      "metadata": {
        "id": "kgrXvdWqYBzN"
      },
      "outputs": [],
      "source": [
        "input = '''0,9 -> 5,9\n",
        "8,0 -> 0,8\n",
        "9,4 -> 3,4\n",
        "2,2 -> 2,1\n",
        "7,0 -> 7,4\n",
        "6,4 -> 2,0\n",
        "0,9 -> 2,9\n",
        "3,4 -> 1,4\n",
        "0,0 -> 8,8\n",
        "5,5 -> 8,2'''\n",
        "input = input.split('\\n')"
      ]
    },
    {
      "cell_type": "code",
      "source": [
        "input = open(\"input.txt\").readlines()\n",
        "input = [x.rstrip() for x in input]"
      ],
      "metadata": {
        "id": "QnxtQ_gpYET9"
      },
      "execution_count": null,
      "outputs": []
    },
    {
      "cell_type": "code",
      "source": [
        "import numpy as np\n",
        "maxx, maxy = 0,0\n",
        "for line in input:\n",
        "    beg,_,end = line.split()\n",
        "    begx,begy = list(map(int,beg.split(',')))\n",
        "    endx,endy = list(map(int,end.split(',')))\n",
        "    maxx = max(begx,endx,maxx)\n",
        "    maxy = max(endx,endy,maxy)\n",
        "\n",
        "m = np.zeros((maxy+1,maxx+1))\n",
        "for line in input:\n",
        "    beg,_,end = line.split()\n",
        "    begx,begy = list(map(int,beg.split(',')))\n",
        "    endx,endy = list(map(int,end.split(',')))\n",
        "    if begx == endx or begy == endy:\n",
        "        if begx <= endx and begy<= endy:\n",
        "            m[begy:endy+1,begx:endx+1] += 1\n",
        "        else:\n",
        "            m[endy:begy+1,endx:begx+1] += 1"
      ],
      "metadata": {
        "id": "Ry2MvzKDYMdT"
      },
      "execution_count": null,
      "outputs": []
    },
    {
      "cell_type": "code",
      "source": [
        "len(np.argwhere(m > 1))"
      ],
      "metadata": {
        "colab": {
          "base_uri": "https://localhost:8080/"
        },
        "id": "oVceMWorYMvy",
        "outputId": "fbe090c9-1034-42b0-e816-fb0f8f2e720e"
      },
      "execution_count": null,
      "outputs": [
        {
          "output_type": "execute_result",
          "data": {
            "text/plain": [
              "4745"
            ]
          },
          "metadata": {},
          "execution_count": 73
        }
      ]
    },
    {
      "cell_type": "code",
      "source": [
        "for line in input:\n",
        "    beg,_,end = line.split()\n",
        "    begx,begy = list(map(int,beg.split(',')))\n",
        "    endx,endy = list(map(int,end.split(',')))\n",
        "    if not (begx == endx or begy == endy):\n",
        "      if begx <= endx: dx = 1\n",
        "      else: dx = -1\n",
        "      if begy <= endy: dy = 1\n",
        "      else: dy = -1\n",
        "      for i in range(abs(begx-endx)+1):\n",
        "        m[begy+dy*i,begx+dx*i] += 1\n",
        "m"
      ],
      "metadata": {
        "colab": {
          "base_uri": "https://localhost:8080/"
        },
        "id": "417LHR3xZQda",
        "outputId": "897bd957-bb0d-4c6b-98f6-7dbfff8277d3"
      },
      "execution_count": null,
      "outputs": [
        {
          "output_type": "execute_result",
          "data": {
            "text/plain": [
              "array([[0., 0., 0., ..., 0., 0., 0.],\n",
              "       [0., 0., 0., ..., 0., 0., 0.],\n",
              "       [0., 0., 0., ..., 0., 0., 0.],\n",
              "       ...,\n",
              "       [0., 0., 0., ..., 0., 0., 0.],\n",
              "       [0., 0., 0., ..., 0., 0., 0.],\n",
              "       [0., 0., 0., ..., 0., 0., 0.]])"
            ]
          },
          "metadata": {},
          "execution_count": 74
        }
      ]
    },
    {
      "cell_type": "code",
      "source": [
        "len(np.argwhere(m > 1))"
      ],
      "metadata": {
        "id": "dZ2TSOm_fyqf",
        "outputId": "07faf5ff-e39d-47b0-8d34-9bd2f7586f68",
        "colab": {
          "base_uri": "https://localhost:8080/"
        }
      },
      "execution_count": null,
      "outputs": [
        {
          "output_type": "execute_result",
          "data": {
            "text/plain": [
              "18442"
            ]
          },
          "metadata": {},
          "execution_count": 75
        }
      ]
    }
  ]
}