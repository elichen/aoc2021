{
  "nbformat": 4,
  "nbformat_minor": 0,
  "metadata": {
    "colab": {
      "provenance": [],
      "authorship_tag": "ABX9TyOGxbl/+4jKjhI4mS9p1uQc",
      "include_colab_link": true
    },
    "kernelspec": {
      "name": "python3",
      "display_name": "Python 3"
    },
    "language_info": {
      "name": "python"
    }
  },
  "cells": [
    {
      "cell_type": "markdown",
      "metadata": {
        "id": "view-in-github",
        "colab_type": "text"
      },
      "source": [
        "<a href=\"https://colab.research.google.com/github/elichen/aoc2021/blob/main/Day_14_Extended_Polymerization.ipynb\" target=\"_parent\"><img src=\"https://colab.research.google.com/assets/colab-badge.svg\" alt=\"Open In Colab\"/></a>"
      ]
    },
    {
      "cell_type": "code",
      "execution_count": null,
      "metadata": {
        "id": "80NSGrgmLQ5h"
      },
      "outputs": [],
      "source": [
        "input = '''NNCB\n",
        "\n",
        "CH -> B\n",
        "HH -> N\n",
        "CB -> H\n",
        "NH -> C\n",
        "HB -> C\n",
        "HC -> B\n",
        "HN -> C\n",
        "NN -> C\n",
        "BH -> H\n",
        "NC -> B\n",
        "NB -> B\n",
        "BN -> B\n",
        "BB -> N\n",
        "BC -> B\n",
        "CC -> N\n",
        "CN -> C'''\n",
        "input = input.split('\\n')"
      ]
    },
    {
      "cell_type": "code",
      "source": [
        "input = open(\"input.txt\").readlines()\n",
        "input = [x.rstrip() for x in input]"
      ],
      "metadata": {
        "id": "fyzjynbRQ-Fk"
      },
      "execution_count": null,
      "outputs": []
    },
    {
      "cell_type": "code",
      "source": [
        "temp = input[0]"
      ],
      "metadata": {
        "id": "ZCD7K7O7LWos"
      },
      "execution_count": null,
      "outputs": []
    },
    {
      "cell_type": "code",
      "source": [
        "input = input[2:]\n",
        "rules = {}\n",
        "for line in input:\n",
        "  l, _, r = line.split()\n",
        "  rules[l] = r\n",
        "len(rules)"
      ],
      "metadata": {
        "colab": {
          "base_uri": "https://localhost:8080/"
        },
        "id": "aFtNPlMHLdT4",
        "outputId": "34a3e0e3-80f4-4df4-8bf3-c60316402f26"
      },
      "execution_count": null,
      "outputs": [
        {
          "output_type": "execute_result",
          "data": {
            "text/plain": [
              "100"
            ]
          },
          "metadata": {},
          "execution_count": 54
        }
      ]
    },
    {
      "cell_type": "code",
      "source": [
        "p = temp\n",
        "for _ in range(10):\n",
        "  new_p = \"\"\n",
        "  for i in range(len(p)-1):\n",
        "    new_p += p[i]\n",
        "    pair = f\"{p[i]}{p[i+1]}\"\n",
        "    if pair in rules:\n",
        "      new_p += rules[pair]\n",
        "  new_p += p[-1:]\n",
        "  p = new_p\n",
        "len(p)"
      ],
      "metadata": {
        "colab": {
          "base_uri": "https://localhost:8080/"
        },
        "id": "xX43HGyNL6qM",
        "outputId": "019feef1-051c-4cc7-91a3-4a6ea5c174f6"
      },
      "execution_count": null,
      "outputs": [
        {
          "output_type": "execute_result",
          "data": {
            "text/plain": [
              "19457"
            ]
          },
          "metadata": {},
          "execution_count": 55
        }
      ]
    },
    {
      "cell_type": "code",
      "source": [
        "from collections import Counter\n",
        "c = Counter(p).most_common()\n",
        "c[0][1] - c[-1][1]"
      ],
      "metadata": {
        "colab": {
          "base_uri": "https://localhost:8080/"
        },
        "id": "7JYa1nc8Pnsr",
        "outputId": "72859830-6908-44cf-ab43-1b8b91bdc698"
      },
      "execution_count": null,
      "outputs": [
        {
          "output_type": "execute_result",
          "data": {
            "text/plain": [
              "2703"
            ]
          },
          "metadata": {},
          "execution_count": 56
        }
      ]
    },
    {
      "cell_type": "code",
      "source": [
        "p = {}\n",
        "for i in range(len(temp)-1):\n",
        "  key = f\"{temp[i]}{temp[i+1]}\"\n",
        "  p[key] = p.get(key, 0)+1\n",
        "\n",
        "for i in range(40):\n",
        "  # print(p)\n",
        "  new_p = p.copy()\n",
        "  for k,v in rules.items():\n",
        "    if k in p:\n",
        "      # print(k,v)\n",
        "      new_p[k] -= p[k]\n",
        "      key = f\"{k[0]}{v}\"\n",
        "      new_p[key] = new_p.get(key,0)+p[k]\n",
        "      key = f\"{v}{k[1]}\"\n",
        "      new_p[key] = new_p.get(key,0)+p[k]\n",
        "  p = new_p\n",
        "  for k,v in p.copy().items():\n",
        "    if v == 0:\n",
        "      del p[k]\n",
        "\n",
        "l = {}\n",
        "r = {}\n",
        "c = {}\n",
        "for k,v in p.items():\n",
        "  l[k[0]] = l.get(k[0],0)+v\n",
        "  r[k[1]] = r.get(k[1],0)+v\n",
        "for letter in set(list(l.keys())+list(r.keys())):\n",
        "  sum = l.get(letter,0) + r.get(letter,0)\n",
        "  diff = abs(l.get(letter,0) - r.get(letter,0))\n",
        "  c[letter] = int((sum-diff)/2+diff)\n",
        "c"
      ],
      "metadata": {
        "colab": {
          "base_uri": "https://localhost:8080/"
        },
        "id": "xOXR-2XORY9F",
        "outputId": "e4c8c3de-abee-4288-8064-b849a529af33"
      },
      "execution_count": null,
      "outputs": [
        {
          "output_type": "execute_result",
          "data": {
            "text/plain": [
              "{'O': 3499427011960,\n",
              " 'C': 1525393049879,\n",
              " 'V': 514480643495,\n",
              " 'N': 3001767210353,\n",
              " 'F': 2656461948238,\n",
              " 'K': 2801614969043,\n",
              " 'S': 1754454056432,\n",
              " 'H': 548323377603,\n",
              " 'P': 2876486309516,\n",
              " 'B': 1712312351226}"
            ]
          },
          "metadata": {},
          "execution_count": 57
        }
      ]
    },
    {
      "cell_type": "code",
      "source": [
        "from collections import Counter\n",
        "c = Counter(c).most_common()\n",
        "c[0][1] - c[-1][1]"
      ],
      "metadata": {
        "colab": {
          "base_uri": "https://localhost:8080/"
        },
        "id": "OQIM-ACSZDBr",
        "outputId": "c6f270a6-c98e-4ab1-fd9c-b0b2b46053bd"
      },
      "execution_count": null,
      "outputs": [
        {
          "output_type": "execute_result",
          "data": {
            "text/plain": [
              "2984946368465"
            ]
          },
          "metadata": {},
          "execution_count": 58
        }
      ]
    }
  ]
}