{
  "nbformat": 4,
  "nbformat_minor": 0,
  "metadata": {
    "colab": {
      "provenance": [],
      "authorship_tag": "ABX9TyPV4tqFOY3QbDB47jhGpHtz",
      "include_colab_link": true
    },
    "kernelspec": {
      "name": "python3",
      "display_name": "Python 3"
    },
    "language_info": {
      "name": "python"
    }
  },
  "cells": [
    {
      "cell_type": "markdown",
      "metadata": {
        "id": "view-in-github",
        "colab_type": "text"
      },
      "source": [
        "<a href=\"https://colab.research.google.com/github/elichen/aoc2021/blob/main/Day_3_Binary_Diagnostic.ipynb\" target=\"_parent\"><img src=\"https://colab.research.google.com/assets/colab-badge.svg\" alt=\"Open In Colab\"/></a>"
      ]
    },
    {
      "cell_type": "code",
      "execution_count": null,
      "metadata": {
        "id": "yDE8BpX7RNOv"
      },
      "outputs": [],
      "source": [
        "input = '''00100\n",
        "11110\n",
        "10110\n",
        "10111\n",
        "10101\n",
        "01111\n",
        "00111\n",
        "11100\n",
        "10000\n",
        "11001\n",
        "00010\n",
        "01010'''\n",
        "input = input.split('\\n')"
      ]
    },
    {
      "cell_type": "code",
      "source": [
        "input = open(\"input.txt\").readlines()\n",
        "input = [x.rstrip() for x in input]"
      ],
      "metadata": {
        "id": "Q2EjD_3DgiOk"
      },
      "execution_count": null,
      "outputs": []
    },
    {
      "cell_type": "code",
      "source": [
        "import numpy as np"
      ],
      "metadata": {
        "id": "rNSi1_QIRdgW"
      },
      "execution_count": null,
      "outputs": []
    },
    {
      "cell_type": "code",
      "source": [
        "sum = np.zeros(len(input[0]))\n",
        "for line in input:\n",
        "  sum += np.array(list(map(int,line)))"
      ],
      "metadata": {
        "id": "TLWv8YaYR3ll"
      },
      "execution_count": null,
      "outputs": []
    },
    {
      "cell_type": "code",
      "source": [
        "gamma = int(\"\".join([\"1\" if x > len(input)//2 else \"0\" for x in sum]),2)"
      ],
      "metadata": {
        "id": "UKE5i_hZTD6y"
      },
      "execution_count": null,
      "outputs": []
    },
    {
      "cell_type": "code",
      "source": [
        "epsilon = int(\"\".join([\"0\" if x > len(input)//2 else \"1\" for x in sum]),2)"
      ],
      "metadata": {
        "id": "S6Lt7RZ9TIpP"
      },
      "execution_count": null,
      "outputs": []
    },
    {
      "cell_type": "code",
      "source": [
        "gamma * epsilon"
      ],
      "metadata": {
        "colab": {
          "base_uri": "https://localhost:8080/"
        },
        "id": "Sv4tyFv5Tq52",
        "outputId": "0d3951b9-d851-4a59-efac-bdbd6e77cd39"
      },
      "execution_count": null,
      "outputs": [
        {
          "output_type": "execute_result",
          "data": {
            "text/plain": [
              "3813416"
            ]
          },
          "metadata": {},
          "execution_count": 124
        }
      ]
    },
    {
      "cell_type": "code",
      "source": [
        "import math"
      ],
      "metadata": {
        "id": "V50ui9mUpnXM"
      },
      "execution_count": null,
      "outputs": []
    },
    {
      "cell_type": "code",
      "source": [
        "bin_list = np.array([np.array(list(map(int,x))) for x in input])\n",
        "for i in range(bin_list.shape[1]):\n",
        "  mcv = int(bin_list[:,i].sum() >= math.ceil(bin_list.shape[0]/2))\n",
        "  bin_list = bin_list[bin_list[:,i] == mcv]\n",
        "  if bin_list.shape[0] == 1:\n",
        "    break\n",
        "o2 = int(\"\".join(list(map(str,bin_list[0].tolist()))),2)"
      ],
      "metadata": {
        "id": "IEiWE1YDkwCF"
      },
      "execution_count": null,
      "outputs": []
    },
    {
      "cell_type": "code",
      "source": [
        "bin_list = np.array([np.array(list(map(int,x))) for x in input])\n",
        "for i in range(bin_list.shape[1]):\n",
        "  mcv = int(bin_list[:,i].sum() < math.ceil(bin_list.shape[0]/2))\n",
        "  bin_list = bin_list[bin_list[:,i] == mcv]\n",
        "  if bin_list.shape[0] == 1:\n",
        "    break\n",
        "co2 = int(\"\".join(list(map(str,bin_list[0].tolist()))),2)"
      ],
      "metadata": {
        "id": "dmxicwBnqLDI"
      },
      "execution_count": null,
      "outputs": []
    },
    {
      "cell_type": "code",
      "source": [
        "o2 * co2"
      ],
      "metadata": {
        "id": "DeF9n8J8rB_5",
        "outputId": "6235773d-9dcf-4c42-89fb-79c67c821429",
        "colab": {
          "base_uri": "https://localhost:8080/"
        }
      },
      "execution_count": null,
      "outputs": [
        {
          "output_type": "execute_result",
          "data": {
            "text/plain": [
              "2990784"
            ]
          },
          "metadata": {},
          "execution_count": 128
        }
      ]
    }
  ]
}