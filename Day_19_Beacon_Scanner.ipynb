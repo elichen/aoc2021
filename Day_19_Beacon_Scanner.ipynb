{
  "nbformat": 4,
  "nbformat_minor": 0,
  "metadata": {
    "colab": {
      "provenance": [],
      "authorship_tag": "ABX9TyNhiW1NIwFcLh2NBQbGVtCn",
      "include_colab_link": true
    },
    "kernelspec": {
      "name": "python3",
      "display_name": "Python 3"
    },
    "language_info": {
      "name": "python"
    }
  },
  "cells": [
    {
      "cell_type": "markdown",
      "metadata": {
        "id": "view-in-github",
        "colab_type": "text"
      },
      "source": [
        "<a href=\"https://colab.research.google.com/github/elichen/aoc2021/blob/main/Day_19_Beacon_Scanner.ipynb\" target=\"_parent\"><img src=\"https://colab.research.google.com/assets/colab-badge.svg\" alt=\"Open In Colab\"/></a>"
      ]
    },
    {
      "cell_type": "code",
      "execution_count": null,
      "metadata": {
        "id": "pkF8wjo2k-gA"
      },
      "outputs": [],
      "source": [
        "input = '''--- scanner 0 ---\n",
        "404,-588,-901\n",
        "528,-643,409\n",
        "-838,591,734\n",
        "390,-675,-793\n",
        "-537,-823,-458\n",
        "-485,-357,347\n",
        "-345,-311,381\n",
        "-661,-816,-575\n",
        "-876,649,763\n",
        "-618,-824,-621\n",
        "553,345,-567\n",
        "474,580,667\n",
        "-447,-329,318\n",
        "-584,868,-557\n",
        "544,-627,-890\n",
        "564,392,-477\n",
        "455,729,728\n",
        "-892,524,684\n",
        "-689,845,-530\n",
        "423,-701,434\n",
        "7,-33,-71\n",
        "630,319,-379\n",
        "443,580,662\n",
        "-789,900,-551\n",
        "459,-707,401\n",
        "\n",
        "--- scanner 1 ---\n",
        "686,422,578\n",
        "605,423,415\n",
        "515,917,-361\n",
        "-336,658,858\n",
        "95,138,22\n",
        "-476,619,847\n",
        "-340,-569,-846\n",
        "567,-361,727\n",
        "-460,603,-452\n",
        "669,-402,600\n",
        "729,430,532\n",
        "-500,-761,534\n",
        "-322,571,750\n",
        "-466,-666,-811\n",
        "-429,-592,574\n",
        "-355,545,-477\n",
        "703,-491,-529\n",
        "-328,-685,520\n",
        "413,935,-424\n",
        "-391,539,-444\n",
        "586,-435,557\n",
        "-364,-763,-893\n",
        "807,-499,-711\n",
        "755,-354,-619\n",
        "553,889,-390\n",
        "\n",
        "--- scanner 2 ---\n",
        "649,640,665\n",
        "682,-795,504\n",
        "-784,533,-524\n",
        "-644,584,-595\n",
        "-588,-843,648\n",
        "-30,6,44\n",
        "-674,560,763\n",
        "500,723,-460\n",
        "609,671,-379\n",
        "-555,-800,653\n",
        "-675,-892,-343\n",
        "697,-426,-610\n",
        "578,704,681\n",
        "493,664,-388\n",
        "-671,-858,530\n",
        "-667,343,800\n",
        "571,-461,-707\n",
        "-138,-166,112\n",
        "-889,563,-600\n",
        "646,-828,498\n",
        "640,759,510\n",
        "-630,509,768\n",
        "-681,-892,-333\n",
        "673,-379,-804\n",
        "-742,-814,-386\n",
        "577,-820,562\n",
        "\n",
        "--- scanner 3 ---\n",
        "-589,542,597\n",
        "605,-692,669\n",
        "-500,565,-823\n",
        "-660,373,557\n",
        "-458,-679,-417\n",
        "-488,449,543\n",
        "-626,468,-788\n",
        "338,-750,-386\n",
        "528,-832,-391\n",
        "562,-778,733\n",
        "-938,-730,414\n",
        "543,643,-506\n",
        "-524,371,-870\n",
        "407,773,750\n",
        "-104,29,83\n",
        "378,-903,-323\n",
        "-778,-728,485\n",
        "426,699,580\n",
        "-438,-605,-362\n",
        "-469,-447,-387\n",
        "509,732,623\n",
        "647,635,-688\n",
        "-868,-804,481\n",
        "614,-800,639\n",
        "595,780,-596\n",
        "\n",
        "--- scanner 4 ---\n",
        "727,592,562\n",
        "-293,-554,779\n",
        "441,611,-461\n",
        "-714,465,-776\n",
        "-743,427,-804\n",
        "-660,-479,-426\n",
        "832,-632,460\n",
        "927,-485,-438\n",
        "408,393,-506\n",
        "466,436,-512\n",
        "110,16,151\n",
        "-258,-428,682\n",
        "-393,719,612\n",
        "-211,-452,876\n",
        "808,-476,-593\n",
        "-575,615,604\n",
        "-485,667,467\n",
        "-680,325,-822\n",
        "-627,-443,-432\n",
        "872,-547,-609\n",
        "833,512,582\n",
        "807,604,487\n",
        "839,-516,451\n",
        "891,-625,532\n",
        "-652,-548,-490\n",
        "30,-46,-14'''.split('\\n')"
      ]
    },
    {
      "cell_type": "code",
      "source": [
        "input = open(\"input.txt\").readlines()\n",
        "input = [x.rstrip() for x in input]"
      ],
      "metadata": {
        "id": "8lWsE7q_IODT"
      },
      "execution_count": null,
      "outputs": []
    },
    {
      "cell_type": "code",
      "source": [
        "scanners = []\n",
        "i = 0\n",
        "while i < len(input):\n",
        "    i += 1\n",
        "    l = []\n",
        "    while i < len(input) and input[i] != \"\":\n",
        "        x,y,z = map(int,input[i].split(','))\n",
        "        l.append((x,y,z))\n",
        "        i += 1\n",
        "    scanners.append(l)\n",
        "    i += 1"
      ],
      "metadata": {
        "id": "eDq4erRklDDO"
      },
      "execution_count": null,
      "outputs": []
    },
    {
      "cell_type": "code",
      "source": [
        "import math"
      ],
      "metadata": {
        "id": "5OYTJ9DRlEj_"
      },
      "execution_count": null,
      "outputs": []
    },
    {
      "cell_type": "code",
      "source": [
        "def dist(p1, p2):\n",
        "  return math.sqrt((p1[0]-p2[0])**2+(p1[1]-p2[1])**2+(p1[2]-p2[2])**2)"
      ],
      "metadata": {
        "id": "_8ttmAlWfwGK"
      },
      "execution_count": null,
      "outputs": []
    },
    {
      "cell_type": "code",
      "source": [
        "d = []\n",
        "for s in scanners:\n",
        "    m = {}\n",
        "    for i in range(len(s)):\n",
        "        for j in range(i+1,len(s)):\n",
        "            m[dist(s[i],s[j])] = (i,j)\n",
        "    d.append(m)"
      ],
      "metadata": {
        "id": "kOq_pWaOlFtT"
      },
      "execution_count": null,
      "outputs": []
    },
    {
      "cell_type": "code",
      "source": [
        "from collections import Counter"
      ],
      "metadata": {
        "id": "BQ6EZncqfigZ"
      },
      "execution_count": null,
      "outputs": []
    },
    {
      "cell_type": "code",
      "source": [
        "import numpy as np"
      ],
      "metadata": {
        "id": "mfTTPhk0q8WT"
      },
      "execution_count": null,
      "outputs": []
    },
    {
      "cell_type": "code",
      "source": [
        "def transform_point(point, facing_direction, rotation):\n",
        "    x, y, z = point\n",
        "\n",
        "    # transform based on facing direction\n",
        "    if facing_direction == 'n':\n",
        "        x, y, z = x, y, z\n",
        "    elif facing_direction == 's':\n",
        "        x, y, z = -x, -y, z\n",
        "    elif facing_direction == 'e':\n",
        "        x, y, z = y, -x, z\n",
        "    elif facing_direction == 'w':\n",
        "        x, y, z = -y, x, z\n",
        "    elif facing_direction == 'u':\n",
        "        x, y, z = x, -z, y\n",
        "    elif facing_direction == 'd':\n",
        "        x, y, z = x, z, -y\n",
        "\n",
        "    # transform based on rotation\n",
        "    if rotation == 90:\n",
        "        x, z = z, -x\n",
        "    elif rotation == 180:\n",
        "        x, z = -x, -z\n",
        "    elif rotation == 270:\n",
        "        x, z = -z, x\n",
        "\n",
        "    return (x, y, z)"
      ],
      "metadata": {
        "id": "K-ynnlFMPrFv"
      },
      "execution_count": null,
      "outputs": []
    },
    {
      "cell_type": "code",
      "source": [
        "def calc_offset(points_list):\n",
        "  min_x = min([x for x,y,z in points_list])\n",
        "  min_y = min([y for x,y,z in points_list])\n",
        "  min_z = min([z for x,y,z in points_list])\n",
        "  return (min_x, min_y, min_z)"
      ],
      "metadata": {
        "id": "U6If2jYOCA7E"
      },
      "execution_count": null,
      "outputs": []
    },
    {
      "cell_type": "code",
      "source": [
        "def shift_offset(points_list, offset):\n",
        "  ox,oy,oz = offset\n",
        "  return [(x-ox,y-oy,z-oz) for x,y,z in points_list]"
      ],
      "metadata": {
        "id": "L-L3QJ-8DRiG"
      },
      "execution_count": null,
      "outputs": []
    },
    {
      "cell_type": "code",
      "source": [
        "def calc_match(i,j):\n",
        "  intersect = set(d[i].keys()).intersection(set(d[j].keys()))\n",
        "  if len(intersect) >= 66:\n",
        "    ii = {scanners[i][d[i][x][0]] for x in intersect}.union({scanners[i][d[i][x][1]] for x in intersect})\n",
        "    ij = {scanners[j][d[j][x][0]] for x in intersect}.union({scanners[j][d[j][x][1]] for x in intersect})\n",
        "    oi = calc_offset(ii)\n",
        "    for dir in 'nsewud':\n",
        "      for rot in [0,90,180,270]:\n",
        "        new_list = {transform_point(p, dir, rot) for p in ij}\n",
        "        offset = tuple([x-y for x,y in zip(calc_offset(new_list),oi)])\n",
        "        if set(shift_offset(new_list,offset)) == ii:\n",
        "          return((dir,rot,offset))\n",
        "  return None"
      ],
      "metadata": {
        "id": "z1lNK_TnxRzP"
      },
      "execution_count": null,
      "outputs": []
    },
    {
      "cell_type": "code",
      "source": [
        "covered = {0}\n",
        "sl = []\n",
        "while len(covered) < len(scanners):\n",
        "  new_covered = covered.copy()\n",
        "  for i in covered:\n",
        "    for j in set(range(len(scanners))) - covered:\n",
        "      ret = calc_match(i,j)\n",
        "      if ret:\n",
        "        # print(i,j,ret)\n",
        "        nl = [transform_point(p, ret[0], ret[1]) for p in scanners[j]]\n",
        "        nl = shift_offset(nl, ret[2])\n",
        "        scanners[j] = nl\n",
        "        new_covered.add(j)\n",
        "        sl.append(ret[2])\n",
        "  covered = new_covered"
      ],
      "metadata": {
        "id": "35vGfzYqlGvE"
      },
      "execution_count": null,
      "outputs": []
    },
    {
      "cell_type": "code",
      "source": [
        "len({elem for s in scanners for elem in s})"
      ],
      "metadata": {
        "colab": {
          "base_uri": "https://localhost:8080/"
        },
        "id": "a-IR78WK08O1",
        "outputId": "0d3b1137-1d08-450d-b6fe-0dd84b5b16ba"
      },
      "execution_count": null,
      "outputs": [
        {
          "output_type": "execute_result",
          "data": {
            "text/plain": [
              "442"
            ]
          },
          "metadata": {},
          "execution_count": 264
        }
      ]
    },
    {
      "cell_type": "code",
      "source": [
        "def manhattan_distance(point1, point2):\n",
        "    x1, y1, z1 = point1\n",
        "    x2, y2, z2 = point2\n",
        "    return abs(x1 - x2) + abs(y1 - y2) + abs(z1 - z2)"
      ],
      "metadata": {
        "id": "xq75TlEMJtpi"
      },
      "execution_count": null,
      "outputs": []
    },
    {
      "cell_type": "code",
      "source": [
        "max_dist = 0\n",
        "for i in range(len(sl)):\n",
        "  for j in range(i,len(sl)):\n",
        "    max_dist = max(max_dist,manhattan_distance(sl[i],sl[j]))\n",
        "max_dist"
      ],
      "metadata": {
        "colab": {
          "base_uri": "https://localhost:8080/"
        },
        "id": "OuKCnb7jJePb",
        "outputId": "d5fd9503-b3e1-495b-893d-5b1958129cda"
      },
      "execution_count": null,
      "outputs": [
        {
          "output_type": "execute_result",
          "data": {
            "text/plain": [
              "11079"
            ]
          },
          "metadata": {},
          "execution_count": 266
        }
      ]
    }
  ]
}