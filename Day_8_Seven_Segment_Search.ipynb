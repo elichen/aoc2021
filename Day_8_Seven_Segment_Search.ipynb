{
  "nbformat": 4,
  "nbformat_minor": 0,
  "metadata": {
    "colab": {
      "provenance": [],
      "authorship_tag": "ABX9TyN00VXpHcnSND6xypTqDAaM",
      "include_colab_link": true
    },
    "kernelspec": {
      "name": "python3",
      "display_name": "Python 3"
    },
    "language_info": {
      "name": "python"
    }
  },
  "cells": [
    {
      "cell_type": "markdown",
      "metadata": {
        "id": "view-in-github",
        "colab_type": "text"
      },
      "source": [
        "<a href=\"https://colab.research.google.com/github/elichen/aoc2021/blob/main/Day_8_Seven_Segment_Search.ipynb\" target=\"_parent\"><img src=\"https://colab.research.google.com/assets/colab-badge.svg\" alt=\"Open In Colab\"/></a>"
      ]
    },
    {
      "cell_type": "code",
      "execution_count": null,
      "metadata": {
        "id": "q-dOPM66sHGo"
      },
      "outputs": [],
      "source": [
        "input = '''be cfbegad cbdgef fgaecd cgeb fdcge agebfd fecdb fabcd edb | fdgacbe cefdb cefbgd gcbe\n",
        "edbfga begcd cbg gc gcadebf fbgde acbgfd abcde gfcbed gfec | fcgedb cgb dgebacf gc\n",
        "fgaebd cg bdaec gdafb agbcfd gdcbef bgcad gfac gcb cdgabef | cg cg fdcagb cbg\n",
        "fbegcd cbd adcefb dageb afcb bc aefdc ecdab fgdeca fcdbega | efabcd cedba gadfec cb\n",
        "aecbfdg fbg gf bafeg dbefa fcge gcbea fcaegb dgceab fcbdga | gecf egdcabf bgf bfgea\n",
        "fgeab ca afcebg bdacfeg cfaedg gcfdb baec bfadeg bafgc acf | gebdcfa ecba ca fadegcb\n",
        "dbcfg fgd bdegcaf fgec aegbdf ecdfab fbedc dacgb gdcebf gf | cefg dcbef fcge gbcadfe\n",
        "bdfegc cbegaf gecbf dfcage bdacg ed bedf ced adcbefg gebcd | ed bcgafe cdgba cbgef\n",
        "egadfb cdbfeg cegd fecab cgb gbdefca cg fgcdab egfdb bfceg | gbdfcae bgc cg cgb\n",
        "gcafb gcf dcaebfg ecagb gf abcdeg gaef cafbge fdbac fegbdc | fgae cfgab fg bagce'''\n",
        "input = input.split('\\n')"
      ]
    },
    {
      "cell_type": "code",
      "source": [
        "input = open(\"input.txt\").readlines()\n",
        "input = [x.rstrip() for x in input]"
      ],
      "metadata": {
        "id": "4OITQjMTsJiB"
      },
      "execution_count": null,
      "outputs": []
    },
    {
      "cell_type": "code",
      "source": [
        "count = 0\n",
        "for line in input:\n",
        "    sigs, outs = line.split(\"|\")\n",
        "    outs = outs.strip().split(\" \")\n",
        "    for out in outs:\n",
        "        if len(out) in [2,3,4,7]:\n",
        "            count += 1\n",
        "count"
      ],
      "metadata": {
        "colab": {
          "base_uri": "https://localhost:8080/"
        },
        "id": "G3g7T2GcsL9y",
        "outputId": "01cd5814-4781-4a4c-f639-b2f0f7e19bce"
      },
      "execution_count": null,
      "outputs": [
        {
          "output_type": "execute_result",
          "data": {
            "text/plain": [
              "239"
            ]
          },
          "metadata": {},
          "execution_count": 149
        }
      ]
    },
    {
      "cell_type": "code",
      "source": [
        "digits = [[0,1,2,4,5,6],\n",
        "          [2,5],\n",
        "          [0,2,3,4,6],\n",
        "          [0,2,3,5,6],\n",
        "          [1,2,3,5],\n",
        "          [0,1,3,5,6],\n",
        "          [0,1,3,4,5,6],\n",
        "          [0,2,5],\n",
        "          [0,1,2,3,4,5,6],\n",
        "          [0,1,2,3,5,6]]"
      ],
      "metadata": {
        "id": "_eKIanFCbBWH"
      },
      "execution_count": null,
      "outputs": []
    },
    {
      "cell_type": "code",
      "source": [
        "def value(line):\n",
        "  sigs, outs = line.strip().split(\"|\")\n",
        "  sigs = sigs.strip().split(' ')\n",
        "  outs = outs.strip().split(' ')\n",
        "  pats = sorted(sigs,key=len)\n",
        "  pos = {}\n",
        "  rbars = pats[0]\n",
        "  topbar = list(set(pats[1])-set(rbars))[0]\n",
        "  pos[topbar] = 0\n",
        "  midbar = list(set(pats[3]).intersection(set(pats[4])).intersection(set(pats[5]).intersection(set(pats[2]))))[0]\n",
        "  pos[midbar] = 3\n",
        "  toplbar = list(set(pats[2])-set(midbar+rbars))[0]\n",
        "  pos[toplbar] = 1\n",
        "  botbar = list(set(pats[3]).intersection(set(pats[4])).intersection(set(pats[5]))-set(topbar+midbar))[0]\n",
        "  pos[botbar] = 6\n",
        "  botlbar = list(set('abcdefg')-set(rbars+topbar+midbar+botbar+toplbar))[0]\n",
        "  pos[botlbar] = 4\n",
        "  botrbar = list(set(pats[6]).intersection(set(pats[7])).intersection(set(pats[8])) - set(topbar+botbar+toplbar))[0]\n",
        "  pos[botrbar] = 5\n",
        "  toprbar = list(set(rbars)-set(botrbar))[0]\n",
        "  pos[toprbar] = 2\n",
        "\n",
        "  tmp = [[i for i,x in enumerate(digits) if set([pos[x] for x in o]) == set(x)] for o in outs]\n",
        "  tmp = int(\"\".join([str(item) for sublist in tmp for item in sublist]))\n",
        "  return tmp"
      ],
      "metadata": {
        "id": "_Zfgh0j6mLvq"
      },
      "execution_count": null,
      "outputs": []
    },
    {
      "cell_type": "code",
      "source": [
        "result = 0\n",
        "for line in input:\n",
        "  result += value(line)\n",
        "  # print(line,value(line))\n",
        "result"
      ],
      "metadata": {
        "colab": {
          "base_uri": "https://localhost:8080/"
        },
        "id": "p8PBC6cCM3Jl",
        "outputId": "2b4738b6-71a5-45dc-fa3b-7d21eba51a93"
      },
      "execution_count": null,
      "outputs": [
        {
          "output_type": "execute_result",
          "data": {
            "text/plain": [
              "946346"
            ]
          },
          "metadata": {},
          "execution_count": 153
        }
      ]
    }
  ]
}